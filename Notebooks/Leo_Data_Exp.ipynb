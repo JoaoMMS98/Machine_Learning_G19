{
 "cells": [
  {
   "cell_type": "markdown",
   "metadata": {},
   "source": [
    "# To Do\n",
    "- cast dtype of variables\n",
    "- fill nans \n",
    "- scale data\n",
    "- encode the rest of the data\n",
    "- give a numerical order to the different actions corresponding to their presence in the notebook "
   ]
  },
  {
   "cell_type": "markdown",
   "metadata": {},
   "source": [
    "# Data Exploration"
   ]
  },
  {
   "cell_type": "code",
   "execution_count": 1,
   "metadata": {},
   "outputs": [],
   "source": [
    "# install libraries\n",
    "import numpy as np\n",
    "import pandas as pd\n",
    "import matplotlib.pyplot as plt\n",
    "import seaborn as sns\n",
    "import os\n",
    "import sys\n",
    "\n"
   ]
  },
  {
   "cell_type": "code",
   "execution_count": 2,
   "metadata": {},
   "outputs": [],
   "source": [
    "#get the data\n",
    "train_path = \"../Data/train_data_mok.csv\"\n",
    "test_path = \"../Data/test_data_mok.csv\"\n",
    "train = pd.read_csv(train_path,index_col='Claim Identifier')\n",
    "train_f = pd.read_csv(train_path,index_col='Claim Identifier')\n",
    "test_f = test = pd.read_csv(test_path,index_col='Claim Identifier')\n",
    "test = pd.read_csv(test_path,index_col='Claim Identifier')"
   ]
  },
  {
   "cell_type": "code",
   "execution_count": null,
   "metadata": {},
   "outputs": [],
   "source": [
    "sys.path.append('../Library')\n",
    "import data_prep as p\n"
   ]
  },
  {
   "cell_type": "code",
   "execution_count": 6,
   "metadata": {},
   "outputs": [
    {
     "name": "stdout",
     "output_type": "stream",
     "text": [
      "-------Numerical Features---------\n",
      "A) ---> dealing with the Average Weekly Wage\n",
      "B) ---> dealing with the Birth Year\n",
      "created ---> Age_\n",
      "-------Categorical Features---------\n",
      "B) ---> dealing with Alternative Dispute Resolution\n",
      "C) ---> encoding the categorical features\n",
      "importing the lookup tables:\n",
      "1. ---> lookup_carrier\n",
      "2. ---> lookup_carrier_type\n",
      "3. ---> lookup_cause_of_injury\n",
      "4. ---> lookup_country\n",
      "5. ---> lookup_district\n",
      "6. ---> lookup_industry_code\n",
      "7. ---> lookup_medical_fee\n",
      "8. ---> lookup_nature_of_injury\n",
      "9. ---> lookup_part_of_body\n",
      "encoding the categorical features:\n",
      "1. ---> Carrier Name encoded in Carrier Code_\n",
      "2. ---> Carrier Type encoded in Carrier Type Code_\n",
      "'Country of Injury'\n",
      "4. ---> COVID-19 Indicator encoded\n",
      "5. ---> District Name encoded in District Code_\n",
      "6. ---> Medical Fee Region encoded in Medical Fee Code_\n",
      "7. ---> Carrier Type encoded in Carrier Type Code_\n",
      "-------Date Features---------\n",
      "setin every date to date time\n",
      "-------New Date Features---------\n",
      "A) ---> Accident Date year and month\n",
      "B) ---> Assembly Date year and month\n",
      "C) ---> C-2 year and month\n",
      "D) ---> C-3 year and month\n",
      "E) --->First Hearing year and month\n",
      "----> dropping the columns\n",
      "----> columns dropped\n",
      "Age at Injury : float64\n",
      "Alternative Dispute Resolution : float64\n",
      "Attorney/Representative : object\n",
      "Birth Year : float64\n",
      "Claim Injury Type : object\n",
      "County of Injury : object\n",
      "COVID-19 Indicator : float64\n",
      "Gender : object\n",
      "IME-4 Count : float64\n",
      "Industry Code : float64\n",
      "OIICS Nature of Injury Description : float64\n",
      "WCIO Cause of Injury Code : float64\n",
      "WCIO Nature of Injury Code : float64\n",
      "WCIO Part Of Body Code : float64\n",
      "Zip Code : float64\n",
      "Agreement Reached : float64\n",
      "WCB Decision : object\n",
      "Number of Dependents : float64\n",
      "log_Average Weekly Wage : float64\n",
      "Age_ : float64\n",
      "Carrier Code_ : float64\n",
      "Carrier Type Code_ : object\n",
      "District Code : float64\n",
      "Medical Fee Code_ : float64\n",
      "Carrier Type Code : object\n",
      "Accident Year_ : float64\n",
      "Accident Month_ : float64\n",
      "Assembly Year_ : int32\n",
      "Assembly Month_ : int32\n",
      "C-2 Year_ : float64\n",
      "C-2 Month_ : float64\n",
      "C-3 Year_ : float64\n",
      "C-3 Month_ : float64\n",
      "First Hearing Year_ : float64\n",
      "First Hearing Month_ : float64\n",
      "First Hearing held : bool\n",
      "----> cleaning up done\n"
     ]
    }
   ],
   "source": [
    "df_t = p.cleanUp(train)"
   ]
  },
  {
   "cell_type": "code",
   "execution_count": 9,
   "metadata": {},
   "outputs": [
    {
     "name": "stdout",
     "output_type": "stream",
     "text": [
      "<class 'pandas.core.frame.DataFrame'>\n",
      "Index: 1004 entries, 5393875 to 5395323\n",
      "Data columns (total 36 columns):\n",
      " #   Column                              Non-Null Count  Dtype  \n",
      "---  ------                              --------------  -----  \n",
      " 0   Age at Injury                       959 non-null    float64\n",
      " 1   Alternative Dispute Resolution      959 non-null    float64\n",
      " 2   Attorney/Representative             959 non-null    object \n",
      " 3   Birth Year                          821 non-null    float64\n",
      " 4   Claim Injury Type                   959 non-null    object \n",
      " 5   County of Injury                    959 non-null    object \n",
      " 6   COVID-19 Indicator                  959 non-null    float64\n",
      " 7   Gender                              959 non-null    object \n",
      " 8   IME-4 Count                         1004 non-null   float64\n",
      " 9   Industry Code                       942 non-null    float64\n",
      " 10  OIICS Nature of Injury Description  0 non-null      float64\n",
      " 11  WCIO Cause of Injury Code           936 non-null    float64\n",
      " 12  WCIO Nature of Injury Code          936 non-null    float64\n",
      " 13  WCIO Part Of Body Code              934 non-null    float64\n",
      " 14  Zip Code                            921 non-null    float64\n",
      " 15  Agreement Reached                   959 non-null    float64\n",
      " 16  WCB Decision                        959 non-null    object \n",
      " 17  Number of Dependents                959 non-null    float64\n",
      " 18  log_Average Weekly Wage             909 non-null    float64\n",
      " 19  Age_                                821 non-null    float64\n",
      " 20  Carrier Code_                       959 non-null    float64\n",
      " 21  Carrier Type Code_                  959 non-null    object \n",
      " 22  District Code                       959 non-null    float64\n",
      " 23  Medical Fee Code_                   959 non-null    float64\n",
      " 24  Carrier Type Code                   959 non-null    object \n",
      " 25  Accident Year_                      954 non-null    float64\n",
      " 26  Accident Month_                     954 non-null    float64\n",
      " 27  Assembly Year_                      1004 non-null   int32  \n",
      " 28  Assembly Month_                     1004 non-null   int32  \n",
      " 29  C-2 Year_                           936 non-null    float64\n",
      " 30  C-2 Month_                          936 non-null    float64\n",
      " 31  C-3 Year_                           321 non-null    float64\n",
      " 32  C-3 Month_                          321 non-null    float64\n",
      " 33  First Hearing Year_                 259 non-null    float64\n",
      " 34  First Hearing Month_                259 non-null    float64\n",
      " 35  First Hearing held                  1004 non-null   bool   \n",
      "dtypes: bool(1), float64(26), int32(2), object(7)\n",
      "memory usage: 275.5+ KB\n"
     ]
    }
   ],
   "source": [
    "df_t.info()"
   ]
  },
  {
   "cell_type": "markdown",
   "metadata": {},
   "source": [
    "## 1 explore the data"
   ]
  },
  {
   "cell_type": "code",
   "execution_count": null,
   "metadata": {},
   "outputs": [],
   "source": [
    "train.head()"
   ]
  },
  {
   "cell_type": "code",
   "execution_count": null,
   "metadata": {},
   "outputs": [],
   "source": [
    "test.head()"
   ]
  },
  {
   "cell_type": "code",
   "execution_count": null,
   "metadata": {},
   "outputs": [],
   "source": [
    "test_col = test.columns\n",
    "train_col = train.columns\n",
    "\n",
    "print(train_col.difference(test_col))\n",
    "diff = train_col.difference(test_col)"
   ]
  },
  {
   "cell_type": "code",
   "execution_count": null,
   "metadata": {},
   "outputs": [],
   "source": [
    "train = train.drop(columns = diff)  # drop the column that is not in the test data"
   ]
  },
  {
   "cell_type": "markdown",
   "metadata": {},
   "source": [
    "### 1.1 train nans"
   ]
  },
  {
   "cell_type": "code",
   "execution_count": null,
   "metadata": {},
   "outputs": [],
   "source": [
    "train.info()"
   ]
  },
  {
   "cell_type": "code",
   "execution_count": null,
   "metadata": {},
   "outputs": [],
   "source": [
    "train_nans = train.isnull().sum()   \n",
    "train_nans.plot(kind = 'bar', figsize = (20, 10))"
   ]
  },
  {
   "cell_type": "markdown",
   "metadata": {},
   "source": [
    "### 1.2 test nans"
   ]
  },
  {
   "cell_type": "code",
   "execution_count": null,
   "metadata": {},
   "outputs": [],
   "source": [
    "test.info()"
   ]
  },
  {
   "cell_type": "code",
   "execution_count": null,
   "metadata": {},
   "outputs": [],
   "source": [
    "test_nans = test.isnull().sum()\n",
    "test_nans.plot(kind = 'bar', figsize = (20, 10))"
   ]
  },
  {
   "cell_type": "markdown",
   "metadata": {},
   "source": [
    "## 2 explore the different features"
   ]
  },
  {
   "cell_type": "markdown",
   "metadata": {},
   "source": [
    "### 2.1 numerical features"
   ]
  },
  {
   "cell_type": "code",
   "execution_count": null,
   "metadata": {},
   "outputs": [],
   "source": [
    "num_col = train.select_dtypes(include = ['int64', 'float64']).columns\n",
    "num_col"
   ]
  },
  {
   "cell_type": "markdown",
   "metadata": {},
   "source": [
    "#### 2.1.1 Codes"
   ]
  },
  {
   "cell_type": "code",
   "execution_count": null,
   "metadata": {},
   "outputs": [],
   "source": [
    "code_col = num_col[num_col.str.contains('Code')]\n",
    "code_col"
   ]
  },
  {
   "cell_type": "code",
   "execution_count": null,
   "metadata": {},
   "outputs": [],
   "source": [
    "num_col = num_col.drop(code_col)"
   ]
  },
  {
   "cell_type": "markdown",
   "metadata": {},
   "source": [
    "##### 2.1.1.1 Industry Code\n",
    "NAICS code and descriptions are available at:\n",
    "https://www.naics.com/search-naics-codes-by-industry/"
   ]
  },
  {
   "cell_type": "code",
   "execution_count": null,
   "metadata": {},
   "outputs": [],
   "source": [
    "train['Industry Code'].describe()\n",
    "train['Industry Code'].isna().sum()\n"
   ]
  },
  {
   "cell_type": "code",
   "execution_count": null,
   "metadata": {},
   "outputs": [],
   "source": [
    "train['Industry Code'].plot(kind = 'hist', figsize = (20, 10))"
   ]
  },
  {
   "cell_type": "markdown",
   "metadata": {},
   "source": [
    "##### 2.1.1.2 WCIO Cause of Injury Code\n",
    "The WCIO cause of injury codes & descriptions are at\n",
    "https://www.wcio.org/Active%20PNC/WCIO_Cause_Table.pdf"
   ]
  },
  {
   "cell_type": "code",
   "execution_count": null,
   "metadata": {},
   "outputs": [],
   "source": [
    "train['WCIO Cause of Injury Code'].describe()"
   ]
  },
  {
   "cell_type": "code",
   "execution_count": null,
   "metadata": {},
   "outputs": [],
   "source": [
    "train['WCIO Cause of Injury Code'].plot(kind = 'hist', figsize = (20, 10))"
   ]
  },
  {
   "cell_type": "code",
   "execution_count": null,
   "metadata": {},
   "outputs": [],
   "source": [
    "train['WCIO Cause of Injury Code'].isna().sum()"
   ]
  },
  {
   "cell_type": "code",
   "execution_count": null,
   "metadata": {},
   "outputs": [],
   "source": [
    "x = train [['WCIO Cause of Injury Code', 'WCIO Cause of Injury Description']] [train['WCIO Cause of Injury Code'].isna()]\n",
    "x.drop_duplicates()"
   ]
  },
  {
   "cell_type": "markdown",
   "metadata": {},
   "source": [
    "##### 2.1.1.3 WCIO Nature of Injury Code\n",
    "The WCIO nature of injury are available at\n",
    "https://www.wcio.org/Active%20PNC/WCIO_Nature_Table.pdf"
   ]
  },
  {
   "cell_type": "code",
   "execution_count": null,
   "metadata": {},
   "outputs": [],
   "source": [
    "train['WCIO Nature of Injury Code'].describe()"
   ]
  },
  {
   "cell_type": "code",
   "execution_count": null,
   "metadata": {},
   "outputs": [],
   "source": [
    "train['WCIO Nature of Injury Code'].plot(kind = 'hist', figsize = (20, 10))"
   ]
  },
  {
   "cell_type": "code",
   "execution_count": null,
   "metadata": {},
   "outputs": [],
   "source": [
    "x = train[['WCIO Nature of Injury Code', 'WCIO Nature of Injury Description'] ][train['WCIO Nature of Injury Code'].isna()]\n",
    "x.drop_duplicates()"
   ]
  },
  {
   "cell_type": "markdown",
   "metadata": {},
   "source": [
    "##### 2.1.1.34 WCIO Part Of Body Code\n",
    "The WCIO part of body codes & descriptions are available at\n",
    "https://www.wcio.org/Active%20PNC/WCIO_Part_Table.pdf"
   ]
  },
  {
   "cell_type": "code",
   "execution_count": null,
   "metadata": {},
   "outputs": [],
   "source": [
    "train['WCIO Part Of Body Code'].describe() "
   ]
  },
  {
   "cell_type": "code",
   "execution_count": null,
   "metadata": {},
   "outputs": [],
   "source": [
    "train['WCIO Part Of Body Code'].plot(kind = 'hist', figsize = (20, 10))"
   ]
  },
  {
   "cell_type": "code",
   "execution_count": null,
   "metadata": {},
   "outputs": [],
   "source": [
    "x = train [train['WCIO Part Of Body Code'].isna()][['WCIO Part Of Body Code', 'WCIO Part Of Body Description']]\n",
    "x.drop_duplicates()"
   ]
  },
  {
   "cell_type": "markdown",
   "metadata": {},
   "source": [
    "##### 2.1.1.1 Zip Code"
   ]
  },
  {
   "cell_type": "code",
   "execution_count": null,
   "metadata": {},
   "outputs": [],
   "source": [
    "train['Zip Code'].describe()"
   ]
  },
  {
   "cell_type": "code",
   "execution_count": null,
   "metadata": {},
   "outputs": [],
   "source": [
    "#cast the zip code to integer\n",
    "train['Zip Code'] = train['Zip Code'].astype('Int64')"
   ]
  },
  {
   "cell_type": "code",
   "execution_count": null,
   "metadata": {},
   "outputs": [],
   "source": [
    "train['Zip Code'][train['Zip Code']< 99999]"
   ]
  },
  {
   "cell_type": "code",
   "execution_count": null,
   "metadata": {},
   "outputs": [],
   "source": [
    "train['Zip Code'].isna().sum()"
   ]
  },
  {
   "cell_type": "markdown",
   "metadata": {},
   "source": [
    "#### 2.1.2 Age at Injury"
   ]
  },
  {
   "cell_type": "code",
   "execution_count": null,
   "metadata": {},
   "outputs": [],
   "source": [
    "num_col"
   ]
  },
  {
   "cell_type": "code",
   "execution_count": null,
   "metadata": {},
   "outputs": [],
   "source": [
    "train['Age at Injury'].describe()"
   ]
  },
  {
   "cell_type": "code",
   "execution_count": null,
   "metadata": {},
   "outputs": [],
   "source": [
    "train['Zip Code'].isna().sum()"
   ]
  },
  {
   "cell_type": "markdown",
   "metadata": {},
   "source": [
    "#### 2.1.3 Average Weekly Wage"
   ]
  },
  {
   "cell_type": "code",
   "execution_count": null,
   "metadata": {},
   "outputs": [],
   "source": [
    "train['Average Weekly Wage'].describe()"
   ]
  },
  {
   "cell_type": "code",
   "execution_count": null,
   "metadata": {},
   "outputs": [],
   "source": [
    "train['log_Average Weekly Wage_'] = np.log(train['Average Weekly Wage']+1)\n",
    "train['log_Average Weekly Wage_'] .describe()"
   ]
  },
  {
   "cell_type": "markdown",
   "metadata": {},
   "source": [
    "#### 2.1.4 Birth Year"
   ]
  },
  {
   "cell_type": "code",
   "execution_count": null,
   "metadata": {},
   "outputs": [],
   "source": [
    "train['Birth Year'].describe()"
   ]
  },
  {
   "cell_type": "code",
   "execution_count": null,
   "metadata": {},
   "outputs": [],
   "source": []
  },
  {
   "cell_type": "markdown",
   "metadata": {},
   "source": [
    "#### 2.1.3 IME-4 Count\n",
    "Number of IME-4 forms received per claim. The IME-4 form is\n",
    "the “Independent Examiner's Report of Independent Medical\n",
    "Examination” form."
   ]
  },
  {
   "cell_type": "code",
   "execution_count": null,
   "metadata": {},
   "outputs": [],
   "source": [
    "train['IME-4 Count'].describe()"
   ]
  },
  {
   "cell_type": "markdown",
   "metadata": {},
   "source": [
    "the minimum is 1 so we will assume that the nans are 0"
   ]
  },
  {
   "cell_type": "code",
   "execution_count": null,
   "metadata": {},
   "outputs": [],
   "source": [
    "train.fillna({'IME-4 Count': 0}, inplace=True)"
   ]
  },
  {
   "cell_type": "markdown",
   "metadata": {},
   "source": [
    "#### 2.1.4 OIICS Nature of Injury Description\n",
    "The OIICS nature of injury codes & descriptions are available\n",
    "at https://www.bls.gov/iif/oiics_manual_2007.pdf."
   ]
  },
  {
   "cell_type": "code",
   "execution_count": null,
   "metadata": {},
   "outputs": [],
   "source": [
    "train['OIICS Nature of Injury Description'].isna().count()"
   ]
  },
  {
   "cell_type": "markdown",
   "metadata": {},
   "source": [
    "#### 2.1.5 ??? Number of Dependents "
   ]
  },
  {
   "cell_type": "code",
   "execution_count": null,
   "metadata": {},
   "outputs": [],
   "source": []
  },
  {
   "cell_type": "markdown",
   "metadata": {},
   "source": [
    "### 2.2 categorical features"
   ]
  },
  {
   "cell_type": "code",
   "execution_count": null,
   "metadata": {},
   "outputs": [],
   "source": [
    "cat_col = train.select_dtypes(include = ['object']).columns\n",
    "cat_col"
   ]
  },
  {
   "cell_type": "markdown",
   "metadata": {},
   "source": [
    "#### 2.2.1 Description columns"
   ]
  },
  {
   "cell_type": "code",
   "execution_count": null,
   "metadata": {},
   "outputs": [],
   "source": [
    "desc_col = cat_col[cat_col.str.contains('Description')]\n",
    "desc_col"
   ]
  },
  {
   "cell_type": "markdown",
   "metadata": {},
   "source": [
    "##### 2.2.1.1 Industry Code Description"
   ]
  },
  {
   "cell_type": "code",
   "execution_count": null,
   "metadata": {},
   "outputs": [],
   "source": [
    "# create a lookup table for the description columns\n",
    "lookup_Industry_Code = train[['Industry Code Description', 'Industry Code']][train['Industry Code Description'].isna()==False].drop_duplicates()\n",
    "lookup_Industry_Code.set_index('Industry Code', inplace = True)\n",
    "len(lookup_Industry_Code) == len(train['Industry Code'].unique()) -1"
   ]
  },
  {
   "cell_type": "code",
   "execution_count": null,
   "metadata": {},
   "outputs": [],
   "source": [
    "lookup_Industry_Code"
   ]
  },
  {
   "cell_type": "markdown",
   "metadata": {},
   "source": [
    "##### 2.2.1.2 WCIO Cause of Injury Description"
   ]
  },
  {
   "cell_type": "code",
   "execution_count": null,
   "metadata": {},
   "outputs": [],
   "source": [
    "lookup_Cause_of_Injury = train[['WCIO Cause of Injury Description', 'WCIO Cause of Injury Code']][train['WCIO Cause of Injury Description'].isna()==False].drop_duplicates()\n",
    "lookup_Cause_of_Injury.set_index('WCIO Cause of Injury Code', inplace = True)\n",
    "len(lookup_Cause_of_Injury) == len(train['WCIO Cause of Injury Code'].unique()) -1"
   ]
  },
  {
   "cell_type": "markdown",
   "metadata": {},
   "source": [
    "##### 2.2.1.3 WCIO Nature of Injury Description"
   ]
  },
  {
   "cell_type": "code",
   "execution_count": null,
   "metadata": {},
   "outputs": [],
   "source": [
    "lookup_Nature_of_Injury = train[['WCIO Nature of Injury Description', 'WCIO Nature of Injury Code']][train['WCIO Nature of Injury Description'].isna()==False].drop_duplicates()\n",
    "lookup_Nature_of_Injury.set_index('WCIO Nature of Injury Code', inplace = True)\n",
    "len(lookup_Nature_of_Injury) == len(train['WCIO Nature of Injury Code'].unique()) -1"
   ]
  },
  {
   "cell_type": "markdown",
   "metadata": {},
   "source": [
    "##### 2.2.1.4 WCIO Part Of Body Description"
   ]
  },
  {
   "cell_type": "code",
   "execution_count": null,
   "metadata": {},
   "outputs": [],
   "source": [
    "lookup_Part_of_Body = train[['WCIO Part Of Body Description', 'WCIO Part Of Body Code']][train['WCIO Part Of Body Description'].isna()==False].drop_duplicates()\n",
    "lookup_Part_of_Body.set_index('WCIO Part Of Body Code', inplace = True)\n",
    "len(lookup_Part_of_Body) == len(train['WCIO Part Of Body Code'].unique()) -1"
   ]
  },
  {
   "cell_type": "markdown",
   "metadata": {},
   "source": [
    "#### 2.2.2 Date columns"
   ]
  },
  {
   "cell_type": "code",
   "execution_count": null,
   "metadata": {},
   "outputs": [],
   "source": [
    "print(\"setting every date to date time\")\n",
    "date_col = cat_col[cat_col.str.contains('Date')]\n",
    "for col in date_col:\n",
    "    try:\n",
    "        train[col] = pd.to_datetime(train[col], errors='coerce', format='%Y-%m-%d')\n",
    "    except Exception as e:\n",
    "        print(f\"Error in the date format of the column {col}: {e}\")\n",
    "        Warning(f\"Error in the date format of the column {col}: {e}\")\n",
    "        \n"
   ]
  },
  {
   "cell_type": "code",
   "execution_count": null,
   "metadata": {},
   "outputs": [],
   "source": [
    "train[date_col].head()"
   ]
  },
  {
   "cell_type": "markdown",
   "metadata": {},
   "source": [
    "##### 2.2.2.1 Accident Date"
   ]
  },
  {
   "cell_type": "code",
   "execution_count": null,
   "metadata": {},
   "outputs": [],
   "source": [
    "train['Accident Date'].describe()"
   ]
  },
  {
   "cell_type": "code",
   "execution_count": null,
   "metadata": {},
   "outputs": [],
   "source": [
    "train['Accident Year_'] = train['Accident Date'].dt.year\n",
    "train['Accident Month_'] = train['Accident Date'].dt.month"
   ]
  },
  {
   "cell_type": "markdown",
   "metadata": {},
   "source": [
    "##### 2.2.2.2 Assembly Date"
   ]
  },
  {
   "cell_type": "code",
   "execution_count": null,
   "metadata": {},
   "outputs": [],
   "source": [
    "train['Assembly Date'].describe()"
   ]
  },
  {
   "cell_type": "code",
   "execution_count": null,
   "metadata": {},
   "outputs": [],
   "source": [
    "train['Assembly Year_'] = train['Assembly Date'].dt.year\n",
    "train['Assembly Month_'] = train['Assembly Date'].dt.month"
   ]
  },
  {
   "cell_type": "markdown",
   "metadata": {},
   "source": [
    "##### 2.2.2.3 C-2 Date"
   ]
  },
  {
   "cell_type": "code",
   "execution_count": null,
   "metadata": {},
   "outputs": [],
   "source": [
    "train['C-2 Date'].describe()"
   ]
  },
  {
   "cell_type": "code",
   "execution_count": null,
   "metadata": {},
   "outputs": [],
   "source": [
    "train['C-2 Year_'] = train['C-2 Date'].dt.year\n",
    "train['C-2 Month_'] = train['C-2 Date'].dt.month\n",
    "train['C-2 recived_'] = ~train['C-2 Date'].isna()"
   ]
  },
  {
   "cell_type": "markdown",
   "metadata": {},
   "source": [
    "##### 2.2.2.4 C-3 Date"
   ]
  },
  {
   "cell_type": "code",
   "execution_count": null,
   "metadata": {},
   "outputs": [],
   "source": [
    "train['C-3 Date'].describe()"
   ]
  },
  {
   "cell_type": "code",
   "execution_count": null,
   "metadata": {},
   "outputs": [],
   "source": [
    "train['C-3 Year_'] = train['C-3 Date'].dt.year\n",
    "train['C-3 Month_'] = train['C-3 Date'].dt.month\n",
    "train['C-3 recived_'] = ~train['C-3 Date'].isna()"
   ]
  },
  {
   "cell_type": "markdown",
   "metadata": {},
   "source": [
    "##### 2.2.2.5 First Hearing Date"
   ]
  },
  {
   "cell_type": "code",
   "execution_count": null,
   "metadata": {},
   "outputs": [],
   "source": [
    "train['First Hearing Date'].describe()"
   ]
  },
  {
   "cell_type": "code",
   "execution_count": null,
   "metadata": {},
   "outputs": [],
   "source": [
    "train['First Hearing Year_'] = train['First Hearing Date'].dt.year\n",
    "train['First Hearing Month_'] = train['First Hearing Date'].dt.month\n",
    "train['First Hearing Held_'] = ~train['First Hearing Date'].isna()"
   ]
  },
  {
   "cell_type": "markdown",
   "metadata": {},
   "source": [
    "#### 2.2.3 Alternative Dispute Resolution\n",
    "Adjudication processes external to the Board."
   ]
  },
  {
   "cell_type": "code",
   "execution_count": null,
   "metadata": {},
   "outputs": [],
   "source": [
    "train['Alternative Dispute Resolution'].describe()"
   ]
  },
  {
   "cell_type": "markdown",
   "metadata": {},
   "source": [
    "#### 2.2.3 Attorney/Representative\n",
    "Is the claim being represented by an Attorney?"
   ]
  },
  {
   "cell_type": "code",
   "execution_count": null,
   "metadata": {},
   "outputs": [],
   "source": [
    "train['Alternative Dispute Resolution'].describe()"
   ]
  },
  {
   "cell_type": "markdown",
   "metadata": {},
   "source": [
    "#### 2.2.3 Carrier Name\n",
    "Name of primary insurance provider responsible for\n",
    "providing workers’ compensation coverage to the injured\n",
    "worker’s employer."
   ]
  },
  {
   "cell_type": "code",
   "execution_count": null,
   "metadata": {},
   "outputs": [],
   "source": [
    "train['Carrier Name'].describe()"
   ]
  },
  {
   "cell_type": "code",
   "execution_count": null,
   "metadata": {},
   "outputs": [],
   "source": [
    "lookup_Carrier = train['Carrier Name'].drop_duplicates().reset_index()"
   ]
  },
  {
   "cell_type": "code",
   "execution_count": null,
   "metadata": {},
   "outputs": [],
   "source": [
    "lookup_Carrier"
   ]
  },
  {
   "cell_type": "code",
   "execution_count": null,
   "metadata": {},
   "outputs": [],
   "source": [
    "# create a lookup table for Carrier Name with unique and a uniqque string identifier\n",
    "lookup_Carrier = train['Carrier Name'][train['Carrier Name'].isna()==False].drop_duplicates().reset_index()\n",
    "lookup_Carrier.rename(columns = {'Claim Identifier':'Carrier Code'}, inplace = True)\n",
    "lookup_Carrier.set_index('Carrier Name', inplace = True)\n",
    "len(lookup_Carrier) == len(train['Carrier Name'].unique()) -1"
   ]
  },
  {
   "cell_type": "code",
   "execution_count": null,
   "metadata": {},
   "outputs": [],
   "source": [
    "lookup_Carrier"
   ]
  },
  {
   "cell_type": "code",
   "execution_count": null,
   "metadata": {},
   "outputs": [],
   "source": [
    "train['Carrier Code'] = train['Carrier Name'].map(lookup_Carrier['Carrier Code'])"
   ]
  },
  {
   "cell_type": "markdown",
   "metadata": {},
   "source": [
    "#### 2.2.3 Carrier Type"
   ]
  },
  {
   "cell_type": "code",
   "execution_count": null,
   "metadata": {},
   "outputs": [],
   "source": [
    "train['Carrier Type'].unique()"
   ]
  },
  {
   "cell_type": "code",
   "execution_count": null,
   "metadata": {},
   "outputs": [],
   "source": [
    "lookup_Carrier_Type = train['Carrier Type'][~train['Carrier Type'].isna()].drop_duplicates().reset_index()\n",
    "lookup_Carrier_Type['Carrier Type Code'] = lookup_Carrier_Type['Carrier Type'].str[:2]\n",
    "lookup_Carrier_Type.set_index('Carrier Type Code', inplace = True)\n",
    "lookup_Carrier_Type.drop(columns = 'Claim Identifier', inplace = True)\n",
    "len(lookup_Carrier_Type) == len(train['Carrier Type'].unique()) - 1"
   ]
  },
  {
   "cell_type": "code",
   "execution_count": null,
   "metadata": {},
   "outputs": [],
   "source": [
    "lookup_Carrier_Type"
   ]
  },
  {
   "cell_type": "code",
   "execution_count": null,
   "metadata": {},
   "outputs": [],
   "source": [
    "train['Carrier Type Code'] = train['Carrier Type'].str[:2]"
   ]
  },
  {
   "cell_type": "markdown",
   "metadata": {},
   "source": [
    "#### 2.2.3 County of Injury"
   ]
  },
  {
   "cell_type": "code",
   "execution_count": null,
   "metadata": {},
   "outputs": [],
   "source": [
    "train['County of Injury'].describe()"
   ]
  },
  {
   "cell_type": "code",
   "execution_count": null,
   "metadata": {},
   "outputs": [],
   "source": [
    "lookup_Country = train['County of Injury'][~train['County of Injury'].isna()].drop_duplicates().reset_index()\n",
    "lookup_Country.rename(columns = {'Claim Identifier':'County Code'}, inplace = True)\n",
    "lookup_Country.set_index('County of Injury', inplace = True)\n",
    "len(lookup_Country) == len(train['County of Injury'].unique()) -1"
   ]
  },
  {
   "cell_type": "code",
   "execution_count": null,
   "metadata": {},
   "outputs": [],
   "source": [
    "lookup_Country"
   ]
  },
  {
   "cell_type": "code",
   "execution_count": null,
   "metadata": {},
   "outputs": [],
   "source": [
    "train['County Code_'] = train['County of Injury'].map(lookup_Country['County Code'])"
   ]
  },
  {
   "cell_type": "markdown",
   "metadata": {},
   "source": [
    "#### 2.2.3 COVID-19 Indicator"
   ]
  },
  {
   "cell_type": "code",
   "execution_count": null,
   "metadata": {},
   "outputs": [],
   "source": [
    "train['COVID-19 Indicator'].describe()"
   ]
  },
  {
   "cell_type": "code",
   "execution_count": null,
   "metadata": {},
   "outputs": [],
   "source": [
    "train['COVID-19 dummy_'] = train['COVID-19 Indicator'].map({'Y':1, 'N':0})"
   ]
  },
  {
   "cell_type": "markdown",
   "metadata": {},
   "source": [
    "#### 2.2.3 District Name\n"
   ]
  },
  {
   "cell_type": "code",
   "execution_count": null,
   "metadata": {},
   "outputs": [],
   "source": [
    "train['District Name'].describe()"
   ]
  },
  {
   "cell_type": "code",
   "execution_count": null,
   "metadata": {},
   "outputs": [],
   "source": [
    "lookup_District = train['District Name'][~train['District Name'].isna()].drop_duplicates().reset_index()\n",
    "lookup_District.rename(columns = {'Claim Identifier':'District Code'}, inplace = True)\n",
    "lookup_District.set_index('District Name', inplace = True)\n",
    "len(lookup_District) == len(train['District Name'].unique()) -1"
   ]
  },
  {
   "cell_type": "code",
   "execution_count": null,
   "metadata": {},
   "outputs": [],
   "source": [
    "train['District Code_'] = train['District Name'].map(lookup_District['District Code'])"
   ]
  },
  {
   "cell_type": "markdown",
   "metadata": {},
   "source": [
    "#### 2.2.3 Gender"
   ]
  },
  {
   "cell_type": "code",
   "execution_count": null,
   "metadata": {},
   "outputs": [],
   "source": [
    "train['Gender'].describe()"
   ]
  },
  {
   "cell_type": "markdown",
   "metadata": {},
   "source": [
    "#### 2.2.3 Medical Fee Region"
   ]
  },
  {
   "cell_type": "code",
   "execution_count": null,
   "metadata": {},
   "outputs": [],
   "source": [
    "train['Medical Fee Region'].describe()"
   ]
  },
  {
   "cell_type": "code",
   "execution_count": null,
   "metadata": {},
   "outputs": [],
   "source": [
    "lookup_Medical_Fee = train['Medical Fee Region'][~train['Medical Fee Region'].isna()].drop_duplicates().reset_index()\n",
    "lookup_Medical_Fee.rename(columns = {'Claim Identifier':'Medical Fee Code'}, inplace = True)\n",
    "lookup_Medical_Fee.set_index('Medical Fee Region', inplace = True)\n",
    "len(lookup_Medical_Fee) == len(train['Medical Fee Region'].unique()) -1"
   ]
  },
  {
   "cell_type": "code",
   "execution_count": null,
   "metadata": {},
   "outputs": [],
   "source": [
    "train['Medical Fee Code_'] = train['Medical Fee Region'].map(lookup_Medical_Fee['Medical Fee Code'])"
   ]
  },
  {
   "cell_type": "markdown",
   "metadata": {},
   "source": [
    "## 3 explore the target"
   ]
  },
  {
   "cell_type": "markdown",
   "metadata": {},
   "source": [
    "## 4 New Features"
   ]
  },
  {
   "cell_type": "markdown",
   "metadata": {},
   "source": [
    "### 4.1 Feature created while exploring the data"
   ]
  },
  {
   "cell_type": "code",
   "execution_count": null,
   "metadata": {},
   "outputs": [],
   "source": [
    "new_col = train.columns [train.columns.str.contains('_')]\n",
    "new_col"
   ]
  },
  {
   "cell_type": "markdown",
   "metadata": {},
   "source": [
    "### 4.1 d_days_assambly_accident_"
   ]
  },
  {
   "cell_type": "code",
   "execution_count": null,
   "metadata": {},
   "outputs": [],
   "source": [
    "train['d_Assembly_Accident'] = train['Assembly Date'] - train['Accident Date']\n",
    "train['d_Assembly_Accident'] = train['d_Assembly_Accident'].dt.days"
   ]
  },
  {
   "cell_type": "code",
   "execution_count": null,
   "metadata": {},
   "outputs": [],
   "source": [
    "train['d_Assembly_Accident'].describe()"
   ]
  },
  {
   "cell_type": "markdown",
   "metadata": {},
   "source": [
    "### 4.2 d_days_c2_accident"
   ]
  },
  {
   "cell_type": "code",
   "execution_count": null,
   "metadata": {},
   "outputs": [],
   "source": [
    "train['d_c2_Accident'] = train['C-2 Date'] - train['Accident Date']\n",
    "train['d_c2_Accident'] = train['d_c2_Accident'].dt.days"
   ]
  },
  {
   "cell_type": "markdown",
   "metadata": {},
   "source": [
    "### 4.2 d_days_c3_accident"
   ]
  },
  {
   "cell_type": "code",
   "execution_count": null,
   "metadata": {},
   "outputs": [],
   "source": [
    "train['d_c3_Accident'] = train['C-3 Date'] - train['Accident Date']\n",
    "train['d_c3_Accident'] = train['d_c3_Accident'].dt.days"
   ]
  },
  {
   "cell_type": "markdown",
   "metadata": {},
   "source": [
    "### 4.2 d_days_c2_c3"
   ]
  },
  {
   "cell_type": "code",
   "execution_count": null,
   "metadata": {},
   "outputs": [],
   "source": [
    "train['d_c2_c3'] = train['C-2 Date'] - train['C-3 Date']\n",
    "train['d_c2_c3'] = train['d_c2_c3'].dt.days"
   ]
  },
  {
   "cell_type": "code",
   "execution_count": null,
   "metadata": {},
   "outputs": [],
   "source": [
    "train['d_c2_c3'].isna().sum()"
   ]
  },
  {
   "cell_type": "code",
   "execution_count": null,
   "metadata": {},
   "outputs": [],
   "source": [
    "# export as csv all the dataframes that statrt wit 'lookup_'\n",
    "for var in dir():\n",
    "    if var.startswith('lookup_'):\n",
    "        globals()[var].to_csv(f'../Data/{var}.csv')"
   ]
  },
  {
   "cell_type": "markdown",
   "metadata": {},
   "source": [
    "## 5 function for data preparation"
   ]
  },
  {
   "cell_type": "markdown",
   "metadata": {},
   "source": []
  },
  {
   "cell_type": "code",
   "execution_count": null,
   "metadata": {},
   "outputs": [],
   "source": [
    "print(\"importing the lookup tables:\")\n",
    "lookup_Carrier = pd.read_csv('../Data/lookup_carrier.csv')\n",
    "print(\"1. ---> lookup_carrier\")"
   ]
  },
  {
   "cell_type": "code",
   "execution_count": null,
   "metadata": {},
   "outputs": [],
   "source": [
    "lookup_Carrier"
   ]
  },
  {
   "cell_type": "code",
   "execution_count": null,
   "metadata": {},
   "outputs": [],
   "source": [
    "train['Carrier Code_'] = train['Carrier Name'].map(lookup_Carrier.set_index('Carrier Name')['Carrier Code'])\n"
   ]
  },
  {
   "cell_type": "code",
   "execution_count": null,
   "metadata": {},
   "outputs": [],
   "source": [
    "train['Carrier Code_']"
   ]
  },
  {
   "cell_type": "code",
   "execution_count": null,
   "metadata": {},
   "outputs": [],
   "source": []
  }
 ],
 "metadata": {
  "kernelspec": {
   "display_name": "DataMinig",
   "language": "python",
   "name": "python3"
  },
  "language_info": {
   "codemirror_mode": {
    "name": "ipython",
    "version": 3
   },
   "file_extension": ".py",
   "mimetype": "text/x-python",
   "name": "python",
   "nbconvert_exporter": "python",
   "pygments_lexer": "ipython3",
   "version": "3.12.2"
  }
 },
 "nbformat": 4,
 "nbformat_minor": 2
}
