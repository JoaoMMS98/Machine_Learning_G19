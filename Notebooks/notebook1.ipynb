{
 "cells": [
  {
   "cell_type": "code",
   "execution_count": 1,
   "metadata": {},
   "outputs": [
    {
     "name": "stdout",
     "output_type": "stream",
     "text": [
<<<<<<< HEAD
      "mara\n"
=======
      "hello\n"
>>>>>>> cd3584ca7b59743620347f809fa87fbc759a10ab
     ]
    }
   ],
   "source": [
<<<<<<< HEAD
    "print(\"mara\")"
   ]
=======
    "print(\"hello\")\n"
   ]
  },
  {
   "cell_type": "code",
   "execution_count": 2,
   "metadata": {},
   "outputs": [
    {
     "name": "stdout",
     "output_type": "stream",
     "text": [
      "hello2\n"
     ]
    }
   ],
   "source": [
    "print(\"hello2\")"
   ]
  },
  {
   "cell_type": "code",
   "execution_count": null,
   "metadata": {},
   "outputs": [],
   "source": []
>>>>>>> cd3584ca7b59743620347f809fa87fbc759a10ab
  }
 ],
 "metadata": {
  "kernelspec": {
<<<<<<< HEAD
   "display_name": "Python 3",
=======
   "display_name": "ML",
>>>>>>> cd3584ca7b59743620347f809fa87fbc759a10ab
   "language": "python",
   "name": "python3"
  },
  "language_info": {
   "codemirror_mode": {
    "name": "ipython",
    "version": 3
   },
   "file_extension": ".py",
   "mimetype": "text/x-python",
   "name": "python",
   "nbconvert_exporter": "python",
   "pygments_lexer": "ipython3",
<<<<<<< HEAD
   "version": "3.10.11"
=======
   "version": "3.12.7"
>>>>>>> cd3584ca7b59743620347f809fa87fbc759a10ab
  }
 },
 "nbformat": 4,
 "nbformat_minor": 2
}
