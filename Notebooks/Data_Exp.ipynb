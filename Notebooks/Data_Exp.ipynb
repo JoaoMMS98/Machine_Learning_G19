{
 "cells": [
  {
   "cell_type": "markdown",
   "metadata": {},
   "source": [
    "# Data Exploration"
   ]
  },
  {
   "cell_type": "code",
   "execution_count": 78,
   "metadata": {},
   "outputs": [],
   "source": [
    "# install libraries\n",
    "import numpy as np\n",
    "import pandas as pd\n",
    "import matplotlib.pyplot as plt\n",
    "import seaborn as sns\n",
    "import os\n",
    "import sys\n",
    "\n"
   ]
  },
  {
   "cell_type": "code",
   "execution_count": 79,
   "metadata": {},
   "outputs": [],
   "source": [
    "#get the data\n",
    "train_path = \"../Data/train_data_mok.csv\"\n",
    "test_path = \"../Data/test_data_mok.csv\"\n",
    "train = pd.read_csv(train_path,index_col='Claim Identifier')\n",
    "test = pd.read_csv(test_path,index_col='Claim Identifier')"
   ]
  },
  {
   "cell_type": "markdown",
   "metadata": {},
   "source": [
    "## 1 explore the data"
   ]
  },
  {
   "cell_type": "code",
   "execution_count": null,
   "metadata": {},
   "outputs": [],
   "source": []
  },
  {
   "cell_type": "code",
   "execution_count": 80,
   "metadata": {},
   "outputs": [
    {
     "data": {
      "text/html": [
       "<div>\n",
       "<style scoped>\n",
       "    .dataframe tbody tr th:only-of-type {\n",
       "        vertical-align: middle;\n",
       "    }\n",
       "\n",
       "    .dataframe tbody tr th {\n",
       "        vertical-align: top;\n",
       "    }\n",
       "\n",
       "    .dataframe thead th {\n",
       "        text-align: right;\n",
       "    }\n",
       "</style>\n",
       "<table border=\"1\" class=\"dataframe\">\n",
       "  <thead>\n",
       "    <tr style=\"text-align: right;\">\n",
       "      <th></th>\n",
       "      <th>Accident Date</th>\n",
       "      <th>Age at Injury</th>\n",
       "      <th>Alternative Dispute Resolution</th>\n",
       "      <th>Assembly Date</th>\n",
       "      <th>Attorney/Representative</th>\n",
       "      <th>Average Weekly Wage</th>\n",
       "      <th>Birth Year</th>\n",
       "      <th>C-2 Date</th>\n",
       "      <th>C-3 Date</th>\n",
       "      <th>Carrier Name</th>\n",
       "      <th>...</th>\n",
       "      <th>WCIO Cause of Injury Code</th>\n",
       "      <th>WCIO Cause of Injury Description</th>\n",
       "      <th>WCIO Nature of Injury Code</th>\n",
       "      <th>WCIO Nature of Injury Description</th>\n",
       "      <th>WCIO Part Of Body Code</th>\n",
       "      <th>WCIO Part Of Body Description</th>\n",
       "      <th>Zip Code</th>\n",
       "      <th>Agreement Reached</th>\n",
       "      <th>WCB Decision</th>\n",
       "      <th>Number of Dependents</th>\n",
       "    </tr>\n",
       "    <tr>\n",
       "      <th>Claim Identifier</th>\n",
       "      <th></th>\n",
       "      <th></th>\n",
       "      <th></th>\n",
       "      <th></th>\n",
       "      <th></th>\n",
       "      <th></th>\n",
       "      <th></th>\n",
       "      <th></th>\n",
       "      <th></th>\n",
       "      <th></th>\n",
       "      <th></th>\n",
       "      <th></th>\n",
       "      <th></th>\n",
       "      <th></th>\n",
       "      <th></th>\n",
       "      <th></th>\n",
       "      <th></th>\n",
       "      <th></th>\n",
       "      <th></th>\n",
       "      <th></th>\n",
       "      <th></th>\n",
       "    </tr>\n",
       "  </thead>\n",
       "  <tbody>\n",
       "    <tr>\n",
       "      <th>5393875</th>\n",
       "      <td>2019-12-30</td>\n",
       "      <td>31.0</td>\n",
       "      <td>N</td>\n",
       "      <td>2020-01-01</td>\n",
       "      <td>N</td>\n",
       "      <td>0.00</td>\n",
       "      <td>1988.0</td>\n",
       "      <td>2019-12-31</td>\n",
       "      <td>NaN</td>\n",
       "      <td>NEW HAMPSHIRE INSURANCE CO</td>\n",
       "      <td>...</td>\n",
       "      <td>27.0</td>\n",
       "      <td>FROM LIQUID OR GREASE SPILLS</td>\n",
       "      <td>10.0</td>\n",
       "      <td>CONTUSION</td>\n",
       "      <td>62.0</td>\n",
       "      <td>BUTTOCKS</td>\n",
       "      <td>13662.0</td>\n",
       "      <td>0.0</td>\n",
       "      <td>Not Work Related</td>\n",
       "      <td>1.0</td>\n",
       "    </tr>\n",
       "    <tr>\n",
       "      <th>5393091</th>\n",
       "      <td>2019-08-30</td>\n",
       "      <td>46.0</td>\n",
       "      <td>N</td>\n",
       "      <td>2020-01-01</td>\n",
       "      <td>Y</td>\n",
       "      <td>1745.93</td>\n",
       "      <td>1973.0</td>\n",
       "      <td>2020-01-01</td>\n",
       "      <td>2020-01-14</td>\n",
       "      <td>ZURICH AMERICAN INSURANCE CO</td>\n",
       "      <td>...</td>\n",
       "      <td>97.0</td>\n",
       "      <td>REPETITIVE MOTION</td>\n",
       "      <td>49.0</td>\n",
       "      <td>SPRAIN OR TEAR</td>\n",
       "      <td>38.0</td>\n",
       "      <td>SHOULDER(S)</td>\n",
       "      <td>14569.0</td>\n",
       "      <td>1.0</td>\n",
       "      <td>Not Work Related</td>\n",
       "      <td>4.0</td>\n",
       "    </tr>\n",
       "    <tr>\n",
       "      <th>5393889</th>\n",
       "      <td>2019-12-06</td>\n",
       "      <td>40.0</td>\n",
       "      <td>N</td>\n",
       "      <td>2020-01-01</td>\n",
       "      <td>N</td>\n",
       "      <td>1434.80</td>\n",
       "      <td>1979.0</td>\n",
       "      <td>2020-01-01</td>\n",
       "      <td>NaN</td>\n",
       "      <td>INDEMNITY INSURANCE CO OF</td>\n",
       "      <td>...</td>\n",
       "      <td>79.0</td>\n",
       "      <td>OBJECT BEING LIFTED OR HANDLED</td>\n",
       "      <td>7.0</td>\n",
       "      <td>CONCUSSION</td>\n",
       "      <td>10.0</td>\n",
       "      <td>MULTIPLE HEAD INJURY</td>\n",
       "      <td>12589.0</td>\n",
       "      <td>0.0</td>\n",
       "      <td>Not Work Related</td>\n",
       "      <td>6.0</td>\n",
       "    </tr>\n",
       "    <tr>\n",
       "      <th>957648180</th>\n",
       "      <td>NaN</td>\n",
       "      <td>NaN</td>\n",
       "      <td>NaN</td>\n",
       "      <td>2020-01-01</td>\n",
       "      <td>NaN</td>\n",
       "      <td>NaN</td>\n",
       "      <td>NaN</td>\n",
       "      <td>NaN</td>\n",
       "      <td>NaN</td>\n",
       "      <td>NaN</td>\n",
       "      <td>...</td>\n",
       "      <td>NaN</td>\n",
       "      <td>NaN</td>\n",
       "      <td>NaN</td>\n",
       "      <td>NaN</td>\n",
       "      <td>NaN</td>\n",
       "      <td>NaN</td>\n",
       "      <td>NaN</td>\n",
       "      <td>NaN</td>\n",
       "      <td>NaN</td>\n",
       "      <td>NaN</td>\n",
       "    </tr>\n",
       "    <tr>\n",
       "      <th>5393887</th>\n",
       "      <td>2019-12-30</td>\n",
       "      <td>61.0</td>\n",
       "      <td>N</td>\n",
       "      <td>2020-01-01</td>\n",
       "      <td>N</td>\n",
       "      <td>NaN</td>\n",
       "      <td>1958.0</td>\n",
       "      <td>2019-12-31</td>\n",
       "      <td>NaN</td>\n",
       "      <td>STATE INSURANCE FUND</td>\n",
       "      <td>...</td>\n",
       "      <td>16.0</td>\n",
       "      <td>HAND TOOL, UTENSIL; NOT POWERED</td>\n",
       "      <td>43.0</td>\n",
       "      <td>PUNCTURE</td>\n",
       "      <td>36.0</td>\n",
       "      <td>FINGER(S)</td>\n",
       "      <td>12603.0</td>\n",
       "      <td>0.0</td>\n",
       "      <td>Not Work Related</td>\n",
       "      <td>1.0</td>\n",
       "    </tr>\n",
       "  </tbody>\n",
       "</table>\n",
       "<p>5 rows × 32 columns</p>\n",
       "</div>"
      ],
      "text/plain": [
       "                 Accident Date  Age at Injury Alternative Dispute Resolution  \\\n",
       "Claim Identifier                                                               \n",
       "5393875             2019-12-30           31.0                              N   \n",
       "5393091             2019-08-30           46.0                              N   \n",
       "5393889             2019-12-06           40.0                              N   \n",
       "957648180                  NaN            NaN                            NaN   \n",
       "5393887             2019-12-30           61.0                              N   \n",
       "\n",
       "                 Assembly Date Attorney/Representative  Average Weekly Wage  \\\n",
       "Claim Identifier                                                              \n",
       "5393875             2020-01-01                       N                 0.00   \n",
       "5393091             2020-01-01                       Y              1745.93   \n",
       "5393889             2020-01-01                       N              1434.80   \n",
       "957648180           2020-01-01                     NaN                  NaN   \n",
       "5393887             2020-01-01                       N                  NaN   \n",
       "\n",
       "                  Birth Year    C-2 Date    C-3 Date  \\\n",
       "Claim Identifier                                       \n",
       "5393875               1988.0  2019-12-31         NaN   \n",
       "5393091               1973.0  2020-01-01  2020-01-14   \n",
       "5393889               1979.0  2020-01-01         NaN   \n",
       "957648180                NaN         NaN         NaN   \n",
       "5393887               1958.0  2019-12-31         NaN   \n",
       "\n",
       "                                  Carrier Name  ... WCIO Cause of Injury Code  \\\n",
       "Claim Identifier                                ...                             \n",
       "5393875             NEW HAMPSHIRE INSURANCE CO  ...                      27.0   \n",
       "5393091           ZURICH AMERICAN INSURANCE CO  ...                      97.0   \n",
       "5393889              INDEMNITY INSURANCE CO OF  ...                      79.0   \n",
       "957648180                                  NaN  ...                       NaN   \n",
       "5393887                   STATE INSURANCE FUND  ...                      16.0   \n",
       "\n",
       "                 WCIO Cause of Injury Description WCIO Nature of Injury Code  \\\n",
       "Claim Identifier                                                               \n",
       "5393875              FROM LIQUID OR GREASE SPILLS                       10.0   \n",
       "5393091                         REPETITIVE MOTION                       49.0   \n",
       "5393889            OBJECT BEING LIFTED OR HANDLED                        7.0   \n",
       "957648180                                     NaN                        NaN   \n",
       "5393887           HAND TOOL, UTENSIL; NOT POWERED                       43.0   \n",
       "\n",
       "                 WCIO Nature of Injury Description WCIO Part Of Body Code  \\\n",
       "Claim Identifier                                                            \n",
       "5393875                                  CONTUSION                   62.0   \n",
       "5393091                             SPRAIN OR TEAR                   38.0   \n",
       "5393889                                 CONCUSSION                   10.0   \n",
       "957648180                                      NaN                    NaN   \n",
       "5393887                                   PUNCTURE                   36.0   \n",
       "\n",
       "                 WCIO Part Of Body Description Zip Code  Agreement Reached  \\\n",
       "Claim Identifier                                                             \n",
       "5393875                               BUTTOCKS  13662.0                0.0   \n",
       "5393091                            SHOULDER(S)  14569.0                1.0   \n",
       "5393889                   MULTIPLE HEAD INJURY  12589.0                0.0   \n",
       "957648180                                  NaN      NaN                NaN   \n",
       "5393887                              FINGER(S)  12603.0                0.0   \n",
       "\n",
       "                      WCB Decision Number of Dependents  \n",
       "Claim Identifier                                         \n",
       "5393875           Not Work Related                  1.0  \n",
       "5393091           Not Work Related                  4.0  \n",
       "5393889           Not Work Related                  6.0  \n",
       "957648180                      NaN                  NaN  \n",
       "5393887           Not Work Related                  1.0  \n",
       "\n",
       "[5 rows x 32 columns]"
      ]
     },
     "execution_count": 80,
     "metadata": {},
     "output_type": "execute_result"
    }
   ],
   "source": [
    "train.head()"
   ]
  },
  {
   "cell_type": "code",
   "execution_count": 81,
   "metadata": {},
   "outputs": [
    {
     "data": {
      "text/html": [
       "<div>\n",
       "<style scoped>\n",
       "    .dataframe tbody tr th:only-of-type {\n",
       "        vertical-align: middle;\n",
       "    }\n",
       "\n",
       "    .dataframe tbody tr th {\n",
       "        vertical-align: top;\n",
       "    }\n",
       "\n",
       "    .dataframe thead th {\n",
       "        text-align: right;\n",
       "    }\n",
       "</style>\n",
       "<table border=\"1\" class=\"dataframe\">\n",
       "  <thead>\n",
       "    <tr style=\"text-align: right;\">\n",
       "      <th></th>\n",
       "      <th>Accident Date</th>\n",
       "      <th>Age at Injury</th>\n",
       "      <th>Alternative Dispute Resolution</th>\n",
       "      <th>Assembly Date</th>\n",
       "      <th>Attorney/Representative</th>\n",
       "      <th>Average Weekly Wage</th>\n",
       "      <th>Birth Year</th>\n",
       "      <th>C-2 Date</th>\n",
       "      <th>C-3 Date</th>\n",
       "      <th>Carrier Name</th>\n",
       "      <th>...</th>\n",
       "      <th>Medical Fee Region</th>\n",
       "      <th>OIICS Nature of Injury Description</th>\n",
       "      <th>WCIO Cause of Injury Code</th>\n",
       "      <th>WCIO Cause of Injury Description</th>\n",
       "      <th>WCIO Nature of Injury Code</th>\n",
       "      <th>WCIO Nature of Injury Description</th>\n",
       "      <th>WCIO Part Of Body Code</th>\n",
       "      <th>WCIO Part Of Body Description</th>\n",
       "      <th>Zip Code</th>\n",
       "      <th>Number of Dependents</th>\n",
       "    </tr>\n",
       "    <tr>\n",
       "      <th>Claim Identifier</th>\n",
       "      <th></th>\n",
       "      <th></th>\n",
       "      <th></th>\n",
       "      <th></th>\n",
       "      <th></th>\n",
       "      <th></th>\n",
       "      <th></th>\n",
       "      <th></th>\n",
       "      <th></th>\n",
       "      <th></th>\n",
       "      <th></th>\n",
       "      <th></th>\n",
       "      <th></th>\n",
       "      <th></th>\n",
       "      <th></th>\n",
       "      <th></th>\n",
       "      <th></th>\n",
       "      <th></th>\n",
       "      <th></th>\n",
       "      <th></th>\n",
       "      <th></th>\n",
       "    </tr>\n",
       "  </thead>\n",
       "  <tbody>\n",
       "    <tr>\n",
       "      <th>6165911</th>\n",
       "      <td>2022-12-24</td>\n",
       "      <td>19</td>\n",
       "      <td>N</td>\n",
       "      <td>2023-01-02</td>\n",
       "      <td>N</td>\n",
       "      <td>NaN</td>\n",
       "      <td>2003.0</td>\n",
       "      <td>2023-01-02</td>\n",
       "      <td>NaN</td>\n",
       "      <td>INDEMNITY INSURANCE CO OF</td>\n",
       "      <td>...</td>\n",
       "      <td>IV</td>\n",
       "      <td>NaN</td>\n",
       "      <td>31.0</td>\n",
       "      <td>FALL, SLIP OR TRIP, NOC</td>\n",
       "      <td>10.0</td>\n",
       "      <td>CONTUSION</td>\n",
       "      <td>54.0</td>\n",
       "      <td>LOWER LEG</td>\n",
       "      <td>10466.0</td>\n",
       "      <td>1</td>\n",
       "    </tr>\n",
       "    <tr>\n",
       "      <th>6166141</th>\n",
       "      <td>2022-11-20</td>\n",
       "      <td>19</td>\n",
       "      <td>N</td>\n",
       "      <td>2023-01-02</td>\n",
       "      <td>N</td>\n",
       "      <td>NaN</td>\n",
       "      <td>2003.0</td>\n",
       "      <td>2023-01-02</td>\n",
       "      <td>NaN</td>\n",
       "      <td>A I U INSURANCE COMPANY</td>\n",
       "      <td>...</td>\n",
       "      <td>IV</td>\n",
       "      <td>NaN</td>\n",
       "      <td>75.0</td>\n",
       "      <td>FALLING OR FLYING OBJECT</td>\n",
       "      <td>10.0</td>\n",
       "      <td>CONTUSION</td>\n",
       "      <td>10.0</td>\n",
       "      <td>MULTIPLE HEAD INJURY</td>\n",
       "      <td>11691.0</td>\n",
       "      <td>1</td>\n",
       "    </tr>\n",
       "    <tr>\n",
       "      <th>6165907</th>\n",
       "      <td>2022-12-26</td>\n",
       "      <td>59</td>\n",
       "      <td>N</td>\n",
       "      <td>2023-01-02</td>\n",
       "      <td>N</td>\n",
       "      <td>0.0</td>\n",
       "      <td>1963.0</td>\n",
       "      <td>2022-12-31</td>\n",
       "      <td>NaN</td>\n",
       "      <td>AMGUARD INSURANCE COMPANY</td>\n",
       "      <td>...</td>\n",
       "      <td>III</td>\n",
       "      <td>NaN</td>\n",
       "      <td>68.0</td>\n",
       "      <td>STATIONARY OBJECT</td>\n",
       "      <td>49.0</td>\n",
       "      <td>SPRAIN OR TEAR</td>\n",
       "      <td>62.0</td>\n",
       "      <td>BUTTOCKS</td>\n",
       "      <td>10604.0</td>\n",
       "      <td>0</td>\n",
       "    </tr>\n",
       "    <tr>\n",
       "      <th>6166047</th>\n",
       "      <td>2022-12-28</td>\n",
       "      <td>55</td>\n",
       "      <td>N</td>\n",
       "      <td>2023-01-02</td>\n",
       "      <td>N</td>\n",
       "      <td>0.0</td>\n",
       "      <td>0.0</td>\n",
       "      <td>2023-01-02</td>\n",
       "      <td>NaN</td>\n",
       "      <td>INDEMNITY INS. OF N AMERICA</td>\n",
       "      <td>...</td>\n",
       "      <td>IV</td>\n",
       "      <td>NaN</td>\n",
       "      <td>25.0</td>\n",
       "      <td>FROM DIFFERENT LEVEL (ELEVATION)</td>\n",
       "      <td>10.0</td>\n",
       "      <td>CONTUSION</td>\n",
       "      <td>53.0</td>\n",
       "      <td>KNEE</td>\n",
       "      <td>11411.0</td>\n",
       "      <td>6</td>\n",
       "    </tr>\n",
       "    <tr>\n",
       "      <th>6166102</th>\n",
       "      <td>2022-12-20</td>\n",
       "      <td>25</td>\n",
       "      <td>N</td>\n",
       "      <td>2023-01-02</td>\n",
       "      <td>N</td>\n",
       "      <td>0.0</td>\n",
       "      <td>1997.0</td>\n",
       "      <td>2022-12-31</td>\n",
       "      <td>NaN</td>\n",
       "      <td>NEW HAMPSHIRE INSURANCE CO</td>\n",
       "      <td>...</td>\n",
       "      <td>IV</td>\n",
       "      <td>NaN</td>\n",
       "      <td>79.0</td>\n",
       "      <td>OBJECT BEING LIFTED OR HANDLED</td>\n",
       "      <td>40.0</td>\n",
       "      <td>LACERATION</td>\n",
       "      <td>37.0</td>\n",
       "      <td>THUMB</td>\n",
       "      <td>11212.0</td>\n",
       "      <td>5</td>\n",
       "    </tr>\n",
       "  </tbody>\n",
       "</table>\n",
       "<p>5 rows × 29 columns</p>\n",
       "</div>"
      ],
      "text/plain": [
       "                 Accident Date  Age at Injury Alternative Dispute Resolution  \\\n",
       "Claim Identifier                                                               \n",
       "6165911             2022-12-24             19                              N   \n",
       "6166141             2022-11-20             19                              N   \n",
       "6165907             2022-12-26             59                              N   \n",
       "6166047             2022-12-28             55                              N   \n",
       "6166102             2022-12-20             25                              N   \n",
       "\n",
       "                 Assembly Date Attorney/Representative  Average Weekly Wage  \\\n",
       "Claim Identifier                                                              \n",
       "6165911             2023-01-02                       N                  NaN   \n",
       "6166141             2023-01-02                       N                  NaN   \n",
       "6165907             2023-01-02                       N                  0.0   \n",
       "6166047             2023-01-02                       N                  0.0   \n",
       "6166102             2023-01-02                       N                  0.0   \n",
       "\n",
       "                  Birth Year    C-2 Date C-3 Date  \\\n",
       "Claim Identifier                                    \n",
       "6165911               2003.0  2023-01-02      NaN   \n",
       "6166141               2003.0  2023-01-02      NaN   \n",
       "6165907               1963.0  2022-12-31      NaN   \n",
       "6166047                  0.0  2023-01-02      NaN   \n",
       "6166102               1997.0  2022-12-31      NaN   \n",
       "\n",
       "                                 Carrier Name  ... Medical Fee Region  \\\n",
       "Claim Identifier                               ...                      \n",
       "6165911             INDEMNITY INSURANCE CO OF  ...                 IV   \n",
       "6166141               A I U INSURANCE COMPANY  ...                 IV   \n",
       "6165907             AMGUARD INSURANCE COMPANY  ...                III   \n",
       "6166047           INDEMNITY INS. OF N AMERICA  ...                 IV   \n",
       "6166102            NEW HAMPSHIRE INSURANCE CO  ...                 IV   \n",
       "\n",
       "                 OIICS Nature of Injury Description WCIO Cause of Injury Code  \\\n",
       "Claim Identifier                                                                \n",
       "6165911                                         NaN                      31.0   \n",
       "6166141                                         NaN                      75.0   \n",
       "6165907                                         NaN                      68.0   \n",
       "6166047                                         NaN                      25.0   \n",
       "6166102                                         NaN                      79.0   \n",
       "\n",
       "                  WCIO Cause of Injury Description WCIO Nature of Injury Code  \\\n",
       "Claim Identifier                                                                \n",
       "6165911                    FALL, SLIP OR TRIP, NOC                       10.0   \n",
       "6166141                   FALLING OR FLYING OBJECT                       10.0   \n",
       "6165907                          STATIONARY OBJECT                       49.0   \n",
       "6166047           FROM DIFFERENT LEVEL (ELEVATION)                       10.0   \n",
       "6166102             OBJECT BEING LIFTED OR HANDLED                       40.0   \n",
       "\n",
       "                 WCIO Nature of Injury Description  WCIO Part Of Body Code  \\\n",
       "Claim Identifier                                                             \n",
       "6165911                                  CONTUSION                    54.0   \n",
       "6166141                                  CONTUSION                    10.0   \n",
       "6165907                             SPRAIN OR TEAR                    62.0   \n",
       "6166047                                  CONTUSION                    53.0   \n",
       "6166102                                 LACERATION                    37.0   \n",
       "\n",
       "                  WCIO Part Of Body Description Zip Code Number of Dependents  \n",
       "Claim Identifier                                                               \n",
       "6165911                               LOWER LEG  10466.0                    1  \n",
       "6166141                    MULTIPLE HEAD INJURY  11691.0                    1  \n",
       "6165907                                BUTTOCKS  10604.0                    0  \n",
       "6166047                                    KNEE  11411.0                    6  \n",
       "6166102                                   THUMB  11212.0                    5  \n",
       "\n",
       "[5 rows x 29 columns]"
      ]
     },
     "execution_count": 81,
     "metadata": {},
     "output_type": "execute_result"
    }
   ],
   "source": [
    "test.head()"
   ]
  },
  {
   "cell_type": "code",
   "execution_count": 82,
   "metadata": {},
   "outputs": [
    {
     "name": "stdout",
     "output_type": "stream",
     "text": [
      "Index(['Agreement Reached', 'Claim Injury Type', 'WCB Decision'], dtype='object')\n"
     ]
    }
   ],
   "source": [
    "test_col = test.columns\n",
    "train_col = train.columns\n",
    "\n",
    "print(train_col.difference(test_col))\n",
    "diff = train_col.difference(test_col)"
   ]
  },
  {
   "cell_type": "code",
   "execution_count": 83,
   "metadata": {},
   "outputs": [],
   "source": [
    "train = train.drop(columns = diff)  # drop the column that is not in the test data"
   ]
  },
  {
   "cell_type": "markdown",
   "metadata": {},
   "source": [
    "### 1.1 train nans"
   ]
  },
  {
   "cell_type": "code",
   "execution_count": 84,
   "metadata": {},
   "outputs": [
    {
     "name": "stdout",
     "output_type": "stream",
     "text": [
      "<class 'pandas.core.frame.DataFrame'>\n",
      "Index: 1004 entries, 5393875 to 5395323\n",
      "Data columns (total 29 columns):\n",
      " #   Column                              Non-Null Count  Dtype  \n",
      "---  ------                              --------------  -----  \n",
      " 0   Accident Date                       954 non-null    object \n",
      " 1   Age at Injury                       959 non-null    float64\n",
      " 2   Alternative Dispute Resolution      959 non-null    object \n",
      " 3   Assembly Date                       1004 non-null   object \n",
      " 4   Attorney/Representative             959 non-null    object \n",
      " 5   Average Weekly Wage                 909 non-null    float64\n",
      " 6   Birth Year                          900 non-null    float64\n",
      " 7   C-2 Date                            936 non-null    object \n",
      " 8   C-3 Date                            321 non-null    object \n",
      " 9   Carrier Name                        959 non-null    object \n",
      " 10  Carrier Type                        959 non-null    object \n",
      " 11  County of Injury                    959 non-null    object \n",
      " 12  COVID-19 Indicator                  959 non-null    object \n",
      " 13  District Name                       959 non-null    object \n",
      " 14  First Hearing Date                  259 non-null    object \n",
      " 15  Gender                              959 non-null    object \n",
      " 16  IME-4 Count                         237 non-null    float64\n",
      " 17  Industry Code                       942 non-null    float64\n",
      " 18  Industry Code Description           942 non-null    object \n",
      " 19  Medical Fee Region                  959 non-null    object \n",
      " 20  OIICS Nature of Injury Description  0 non-null      float64\n",
      " 21  WCIO Cause of Injury Code           936 non-null    float64\n",
      " 22  WCIO Cause of Injury Description    936 non-null    object \n",
      " 23  WCIO Nature of Injury Code          936 non-null    float64\n",
      " 24  WCIO Nature of Injury Description   936 non-null    object \n",
      " 25  WCIO Part Of Body Code              934 non-null    float64\n",
      " 26  WCIO Part Of Body Description       934 non-null    object \n",
      " 27  Zip Code                            921 non-null    float64\n",
      " 28  Number of Dependents                959 non-null    float64\n",
      "dtypes: float64(11), object(18)\n",
      "memory usage: 235.3+ KB\n"
     ]
    }
   ],
   "source": [
    "train.info()"
   ]
  },
  {
   "cell_type": "code",
   "execution_count": 85,
   "metadata": {},
   "outputs": [
    {
     "data": {
      "text/plain": [
       "<Axes: >"
      ]
     },
     "execution_count": 85,
     "metadata": {},
     "output_type": "execute_result"
    },
    {
     "data": {
      "image/png": "[encoded data removed]",
      "text/plain": [
       "<Figure size 2000x1000 with 1 Axes>"
      ]
     },
     "metadata": {},
     "output_type": "display_data"
    }
   ],
   "source": [
    "train_nans = train.isnull().sum()   \n",
    "train_nans.plot(kind = 'bar', figsize = (20, 10))"
   ]
  },
  {
   "cell_type": "markdown",
   "metadata": {},
   "source": [
    "### 1.2 test nans"
   ]
  },
  {
   "cell_type": "code",
   "execution_count": 86,
   "metadata": {},
   "outputs": [
    {
     "name": "stdout",
     "output_type": "stream",
     "text": [
      "<class 'pandas.core.frame.DataFrame'>\n",
      "Index: 1013 entries, 6165911 to 6166058\n",
      "Data columns (total 29 columns):\n",
      " #   Column                              Non-Null Count  Dtype  \n",
      "---  ------                              --------------  -----  \n",
      " 0   Accident Date                       1011 non-null   object \n",
      " 1   Age at Injury                       1013 non-null   int64  \n",
      " 2   Alternative Dispute Resolution      1013 non-null   object \n",
      " 3   Assembly Date                       1013 non-null   object \n",
      " 4   Attorney/Representative             1013 non-null   object \n",
      " 5   Average Weekly Wage                 963 non-null    float64\n",
      " 6   Birth Year                          965 non-null    float64\n",
      " 7   C-2 Date                            985 non-null    object \n",
      " 8   C-3 Date                            251 non-null    object \n",
      " 9   Carrier Name                        1013 non-null   object \n",
      " 10  Carrier Type                        1013 non-null   object \n",
      " 11  County of Injury                    1013 non-null   object \n",
      " 12  COVID-19 Indicator                  1013 non-null   object \n",
      " 13  District Name                       1013 non-null   object \n",
      " 14  First Hearing Date                  161 non-null    object \n",
      " 15  Gender                              1013 non-null   object \n",
      " 16  IME-4 Count                         136 non-null    float64\n",
      " 17  Industry Code                       996 non-null    float64\n",
      " 18  Industry Code Description           996 non-null    object \n",
      " 19  Medical Fee Region                  1013 non-null   object \n",
      " 20  OIICS Nature of Injury Description  0 non-null      float64\n",
      " 21  WCIO Cause of Injury Code           985 non-null    float64\n",
      " 22  WCIO Cause of Injury Description    985 non-null    object \n",
      " 23  WCIO Nature of Injury Code          984 non-null    float64\n",
      " 24  WCIO Nature of Injury Description   984 non-null    object \n",
      " 25  WCIO Part Of Body Code              983 non-null    float64\n",
      " 26  WCIO Part Of Body Description       983 non-null    object \n",
      " 27  Zip Code                            965 non-null    float64\n",
      " 28  Number of Dependents                1013 non-null   int64  \n",
      "dtypes: float64(9), int64(2), object(18)\n",
      "memory usage: 237.4+ KB\n"
     ]
    }
   ],
   "source": [
    "test.info()"
   ]
  },
  {
   "cell_type": "code",
   "execution_count": 87,
   "metadata": {},
   "outputs": [
    {
     "data": {
      "text/plain": [
       "<Axes: >"
      ]
     },
     "execution_count": 87,
     "metadata": {},
     "output_type": "execute_result"
    },
    {
     "data": {
      "image/png": "[encoded data removed]",
      "text/plain": [
       "<Figure size 2000x1000 with 1 Axes>"
      ]
     },
     "metadata": {},
     "output_type": "display_data"
    }
   ],
   "source": [
    "test_nans = test.isnull().sum()\n",
    "test_nans.plot(kind = 'bar', figsize = (20, 10))"
   ]
  },
  {
   "cell_type": "markdown",
   "metadata": {},
   "source": [
    "## 2 explore the different features"
   ]
  },
  {
   "cell_type": "markdown",
   "metadata": {},
   "source": [
    "### 2.1 numerical features"
   ]
  },
  {
   "cell_type": "code",
   "execution_count": 88,
   "metadata": {},
   "outputs": [
    {
     "data": {
      "text/plain": [
       "Index(['Age at Injury', 'Average Weekly Wage', 'Birth Year', 'IME-4 Count',\n",
       "       'Industry Code', 'OIICS Nature of Injury Description',\n",
       "       'WCIO Cause of Injury Code', 'WCIO Nature of Injury Code',\n",
       "       'WCIO Part Of Body Code', 'Zip Code', 'Number of Dependents'],\n",
       "      dtype='object')"
      ]
     },
     "execution_count": 88,
     "metadata": {},
     "output_type": "execute_result"
    }
   ],
   "source": [
    "num_col = train.select_dtypes(include = ['int64', 'float64']).columns\n",
    "num_col"
   ]
  },
  {
   "cell_type": "markdown",
   "metadata": {},
   "source": [
    "#### 2.1.1 Codes"
   ]
  },
  {
   "cell_type": "code",
   "execution_count": 89,
   "metadata": {},
   "outputs": [
    {
     "data": {
      "text/plain": [
       "Index(['Industry Code', 'WCIO Cause of Injury Code',\n",
       "       'WCIO Nature of Injury Code', 'WCIO Part Of Body Code', 'Zip Code'],\n",
       "      dtype='object')"
      ]
     },
     "execution_count": 89,
     "metadata": {},
     "output_type": "execute_result"
    }
   ],
   "source": [
    "code_col = num_col[num_col.str.contains('Code')]\n",
    "code_col"
   ]
  },
  {
   "cell_type": "code",
   "execution_count": 90,
   "metadata": {},
   "outputs": [],
   "source": [
    "num_col = num_col.drop(code_col)"
   ]
  },
  {
   "cell_type": "markdown",
   "metadata": {},
   "source": [
    "##### 2.1.1.1 Industry Code\n",
    "NAICS code and descriptions are available at:\n",
    "https://www.naics.com/search-naics-codes-by-industry/"
   ]
  },
  {
   "cell_type": "code",
   "execution_count": 91,
   "metadata": {},
   "outputs": [
    {
     "data": {
      "text/plain": [
       "np.int64(62)"
      ]
     },
     "execution_count": 91,
     "metadata": {},
     "output_type": "execute_result"
    }
   ],
   "source": [
    "train['Industry Code'].describe()\n",
    "train['Industry Code'].isna().sum()\n"
   ]
  },
  {
   "cell_type": "code",
   "execution_count": 92,
   "metadata": {},
   "outputs": [
    {
     "data": {
      "text/plain": [
       "<Axes: ylabel='Frequency'>"
      ]
     },
     "execution_count": 92,
     "metadata": {},
     "output_type": "execute_result"
    },
    {
     "data": {
      "image/png": "[encoded data removed]",
      "text/plain": [
       "<Figure size 2000x1000 with 1 Axes>"
      ]
     },
     "metadata": {},
     "output_type": "display_data"
    }
   ],
   "source": [
    "train['Industry Code'].plot(kind = 'hist', figsize = (20, 10))"
   ]
  },
  {
   "cell_type": "markdown",
   "metadata": {},
   "source": [
    "##### 2.1.1.2 WCIO Cause of Injury Code\n",
    "The WCIO cause of injury codes & descriptions are at\n",
    "https://www.wcio.org/Active%20PNC/WCIO_Cause_Table.pdf"
   ]
  },
  {
   "cell_type": "code",
   "execution_count": 93,
   "metadata": {},
   "outputs": [
    {
     "data": {
      "text/plain": [
       "count    936.000000\n",
       "mean      54.655983\n",
       "std       26.422993\n",
       "min        1.000000\n",
       "25%       31.000000\n",
       "50%       56.000000\n",
       "75%       75.000000\n",
       "max       99.000000\n",
       "Name: WCIO Cause of Injury Code, dtype: float64"
      ]
     },
     "execution_count": 93,
     "metadata": {},
     "output_type": "execute_result"
    }
   ],
   "source": [
    "train['WCIO Cause of Injury Code'].describe()"
   ]
  },
  {
   "cell_type": "code",
   "execution_count": 94,
   "metadata": {},
   "outputs": [
    {
     "data": {
      "text/plain": [
       "<Axes: ylabel='Frequency'>"
      ]
     },
     "execution_count": 94,
     "metadata": {},
     "output_type": "execute_result"
    },
    {
     "data": {
      "image/png": "[encoded data removed]",
      "text/plain": [
       "<Figure size 2000x1000 with 1 Axes>"
      ]
     },
     "metadata": {},
     "output_type": "display_data"
    }
   ],
   "source": [
    "train['WCIO Cause of Injury Code'].plot(kind = 'hist', figsize = (20, 10))"
   ]
  },
  {
   "cell_type": "code",
   "execution_count": 95,
   "metadata": {},
   "outputs": [
    {
     "data": {
      "text/plain": [
       "np.int64(68)"
      ]
     },
     "execution_count": 95,
     "metadata": {},
     "output_type": "execute_result"
    }
   ],
   "source": [
    "train['WCIO Cause of Injury Code'].isna().sum()"
   ]
  },
  {
   "cell_type": "code",
   "execution_count": 96,
   "metadata": {},
   "outputs": [
    {
     "data": {
      "text/html": [
       "<div>\n",
       "<style scoped>\n",
       "    .dataframe tbody tr th:only-of-type {\n",
       "        vertical-align: middle;\n",
       "    }\n",
       "\n",
       "    .dataframe tbody tr th {\n",
       "        vertical-align: top;\n",
       "    }\n",
       "\n",
       "    .dataframe thead th {\n",
       "        text-align: right;\n",
       "    }\n",
       "</style>\n",
       "<table border=\"1\" class=\"dataframe\">\n",
       "  <thead>\n",
       "    <tr style=\"text-align: right;\">\n",
       "      <th></th>\n",
       "      <th>WCIO Cause of Injury Code</th>\n",
       "      <th>WCIO Cause of Injury Description</th>\n",
       "    </tr>\n",
       "    <tr>\n",
       "      <th>Claim Identifier</th>\n",
       "      <th></th>\n",
       "      <th></th>\n",
       "    </tr>\n",
       "  </thead>\n",
       "  <tbody>\n",
       "    <tr>\n",
       "      <th>957648180</th>\n",
       "      <td>NaN</td>\n",
       "      <td>NaN</td>\n",
       "    </tr>\n",
       "  </tbody>\n",
       "</table>\n",
       "</div>"
      ],
      "text/plain": [
       "                  WCIO Cause of Injury Code WCIO Cause of Injury Description\n",
       "Claim Identifier                                                            \n",
       "957648180                               NaN                              NaN"
      ]
     },
     "execution_count": 96,
     "metadata": {},
     "output_type": "execute_result"
    }
   ],
   "source": [
    "x = train [['WCIO Cause of Injury Code', 'WCIO Cause of Injury Description']] [train['WCIO Cause of Injury Code'].isna()]\n",
    "x.drop_duplicates()"
   ]
  },
  {
   "cell_type": "markdown",
   "metadata": {},
   "source": [
    "##### 2.1.1.3 WCIO Nature of Injury Code\n",
    "The WCIO nature of injury are available at\n",
    "https://www.wcio.org/Active%20PNC/WCIO_Nature_Table.pdf"
   ]
  },
  {
   "cell_type": "code",
   "execution_count": 97,
   "metadata": {},
   "outputs": [
    {
     "data": {
      "text/plain": [
       "count    936.000000\n",
       "mean      38.764957\n",
       "std       21.259846\n",
       "min        1.000000\n",
       "25%       10.000000\n",
       "50%       46.500000\n",
       "75%       52.000000\n",
       "max       90.000000\n",
       "Name: WCIO Nature of Injury Code, dtype: float64"
      ]
     },
     "execution_count": 97,
     "metadata": {},
     "output_type": "execute_result"
    }
   ],
   "source": [
    "train['WCIO Nature of Injury Code'].describe()"
   ]
  },
  {
   "cell_type": "code",
   "execution_count": 98,
   "metadata": {},
   "outputs": [
    {
     "data": {
      "text/plain": [
       "<Axes: ylabel='Frequency'>"
      ]
     },
     "execution_count": 98,
     "metadata": {},
     "output_type": "execute_result"
    },
    {
     "data": {
      "image/png": "[encoded data removed]",
      "text/plain": [
       "<Figure size 2000x1000 with 1 Axes>"
      ]
     },
     "metadata": {},
     "output_type": "display_data"
    }
   ],
   "source": [
    "train['WCIO Nature of Injury Code'].plot(kind = 'hist', figsize = (20, 10))"
   ]
  },
  {
   "cell_type": "code",
   "execution_count": 99,
   "metadata": {},
   "outputs": [
    {
     "data": {
      "text/html": [
       "<div>\n",
       "<style scoped>\n",
       "    .dataframe tbody tr th:only-of-type {\n",
       "        vertical-align: middle;\n",
       "    }\n",
       "\n",
       "    .dataframe tbody tr th {\n",
       "        vertical-align: top;\n",
       "    }\n",
       "\n",
       "    .dataframe thead th {\n",
       "        text-align: right;\n",
       "    }\n",
       "</style>\n",
       "<table border=\"1\" class=\"dataframe\">\n",
       "  <thead>\n",
       "    <tr style=\"text-align: right;\">\n",
       "      <th></th>\n",
       "      <th>WCIO Nature of Injury Code</th>\n",
       "      <th>WCIO Nature of Injury Description</th>\n",
       "    </tr>\n",
       "    <tr>\n",
       "      <th>Claim Identifier</th>\n",
       "      <th></th>\n",
       "      <th></th>\n",
       "    </tr>\n",
       "  </thead>\n",
       "  <tbody>\n",
       "    <tr>\n",
       "      <th>957648180</th>\n",
       "      <td>NaN</td>\n",
       "      <td>NaN</td>\n",
       "    </tr>\n",
       "  </tbody>\n",
       "</table>\n",
       "</div>"
      ],
      "text/plain": [
       "                  WCIO Nature of Injury Code WCIO Nature of Injury Description\n",
       "Claim Identifier                                                              \n",
       "957648180                                NaN                               NaN"
      ]
     },
     "execution_count": 99,
     "metadata": {},
     "output_type": "execute_result"
    }
   ],
   "source": [
    "x = train[['WCIO Nature of Injury Code', 'WCIO Nature of Injury Description'] ][train['WCIO Nature of Injury Code'].isna()]\n",
    "x.drop_duplicates()"
   ]
  },
  {
   "cell_type": "markdown",
   "metadata": {},
   "source": [
    "##### 2.1.1.34 WCIO Part Of Body Code\n",
    "The WCIO part of body codes & descriptions are available at\n",
    "https://www.wcio.org/Active%20PNC/WCIO_Part_Table.pdf"
   ]
  },
  {
   "cell_type": "code",
   "execution_count": 100,
   "metadata": {},
   "outputs": [
    {
     "data": {
      "text/plain": [
       "count    934.000000\n",
       "mean      42.524625\n",
       "std       18.743514\n",
       "min       -9.000000\n",
       "25%       34.000000\n",
       "50%       38.000000\n",
       "75%       53.000000\n",
       "max       99.000000\n",
       "Name: WCIO Part Of Body Code, dtype: float64"
      ]
     },
     "execution_count": 100,
     "metadata": {},
     "output_type": "execute_result"
    }
   ],
   "source": [
    "train['WCIO Part Of Body Code'].describe() "
   ]
  },
  {
   "cell_type": "code",
   "execution_count": 101,
   "metadata": {},
   "outputs": [
    {
     "data": {
      "text/plain": [
       "<Axes: ylabel='Frequency'>"
      ]
     },
     "execution_count": 101,
     "metadata": {},
     "output_type": "execute_result"
    },
    {
     "data": {
      "image/png": "[encoded data removed]",
      "text/plain": [
       "<Figure size 2000x1000 with 1 Axes>"
      ]
     },
     "metadata": {},
     "output_type": "display_data"
    }
   ],
   "source": [
    "train['WCIO Part Of Body Code'].plot(kind = 'hist', figsize = (20, 10))"
   ]
  },
  {
   "cell_type": "code",
   "execution_count": 102,
   "metadata": {},
   "outputs": [
    {
     "data": {
      "text/html": [
       "<div>\n",
       "<style scoped>\n",
       "    .dataframe tbody tr th:only-of-type {\n",
       "        vertical-align: middle;\n",
       "    }\n",
       "\n",
       "    .dataframe tbody tr th {\n",
       "        vertical-align: top;\n",
       "    }\n",
       "\n",
       "    .dataframe thead th {\n",
       "        text-align: right;\n",
       "    }\n",
       "</style>\n",
       "<table border=\"1\" class=\"dataframe\">\n",
       "  <thead>\n",
       "    <tr style=\"text-align: right;\">\n",
       "      <th></th>\n",
       "      <th>WCIO Part Of Body Code</th>\n",
       "      <th>WCIO Part Of Body Description</th>\n",
       "    </tr>\n",
       "    <tr>\n",
       "      <th>Claim Identifier</th>\n",
       "      <th></th>\n",
       "      <th></th>\n",
       "    </tr>\n",
       "  </thead>\n",
       "  <tbody>\n",
       "    <tr>\n",
       "      <th>957648180</th>\n",
       "      <td>NaN</td>\n",
       "      <td>NaN</td>\n",
       "    </tr>\n",
       "  </tbody>\n",
       "</table>\n",
       "</div>"
      ],
      "text/plain": [
       "                  WCIO Part Of Body Code WCIO Part Of Body Description\n",
       "Claim Identifier                                                      \n",
       "957648180                            NaN                           NaN"
      ]
     },
     "execution_count": 102,
     "metadata": {},
     "output_type": "execute_result"
    }
   ],
   "source": [
    "x = train [train['WCIO Part Of Body Code'].isna()][['WCIO Part Of Body Code', 'WCIO Part Of Body Description']]\n",
    "x.drop_duplicates()"
   ]
  },
  {
   "cell_type": "markdown",
   "metadata": {},
   "source": [
    "##### 2.1.1.1 Zip Code"
   ]
  },
  {
   "cell_type": "code",
   "execution_count": 103,
   "metadata": {},
   "outputs": [
    {
     "data": {
      "text/plain": [
       "count      921.000000\n",
       "mean     12766.897937\n",
       "std       6479.414716\n",
       "min       1803.000000\n",
       "25%      11206.000000\n",
       "50%      11741.000000\n",
       "75%      13126.000000\n",
       "max      94517.000000\n",
       "Name: Zip Code, dtype: float64"
      ]
     },
     "execution_count": 103,
     "metadata": {},
     "output_type": "execute_result"
    }
   ],
   "source": [
    "train['Zip Code'].describe()"
   ]
  },
  {
   "cell_type": "code",
   "execution_count": 104,
   "metadata": {},
   "outputs": [],
   "source": [
    "#cast the zip code to integer\n",
    "train['Zip Code'] = train['Zip Code'].astype('Int64')"
   ]
  },
  {
   "cell_type": "code",
   "execution_count": 105,
   "metadata": {},
   "outputs": [
    {
     "data": {
      "text/plain": [
       "Claim Identifier\n",
       "5393875    13662\n",
       "5393091    14569\n",
       "5393889    12589\n",
       "5393887    12603\n",
       "5393863    11772\n",
       "           ...  \n",
       "5395599    11756\n",
       "5395114    11727\n",
       "5395018    13760\n",
       "5395644    10452\n",
       "5395323    11520\n",
       "Name: Zip Code, Length: 921, dtype: Int64"
      ]
     },
     "execution_count": 105,
     "metadata": {},
     "output_type": "execute_result"
    }
   ],
   "source": [
    "train['Zip Code'][train['Zip Code']< 99999]"
   ]
  },
  {
   "cell_type": "code",
   "execution_count": 106,
   "metadata": {},
   "outputs": [
    {
     "data": {
      "text/plain": [
       "np.int64(83)"
      ]
     },
     "execution_count": 106,
     "metadata": {},
     "output_type": "execute_result"
    }
   ],
   "source": [
    "train['Zip Code'].isna().sum()"
   ]
  },
  {
   "cell_type": "markdown",
   "metadata": {},
   "source": [
    "#### 2.1.2 Age at Injury"
   ]
  },
  {
   "cell_type": "code",
   "execution_count": 107,
   "metadata": {},
   "outputs": [
    {
     "data": {
      "text/plain": [
       "count    959.000000\n",
       "mean      42.031283\n",
       "std       14.146824\n",
       "min        0.000000\n",
       "25%       31.000000\n",
       "50%       42.000000\n",
       "75%       53.000000\n",
       "max       89.000000\n",
       "Name: Age at Injury, dtype: float64"
      ]
     },
     "execution_count": 107,
     "metadata": {},
     "output_type": "execute_result"
    }
   ],
   "source": [
    "train['Age at Injury'].describe()"
   ]
  },
  {
   "cell_type": "code",
   "execution_count": 108,
   "metadata": {},
   "outputs": [
    {
     "data": {
      "text/plain": [
       "np.int64(83)"
      ]
     },
     "execution_count": 108,
     "metadata": {},
     "output_type": "execute_result"
    }
   ],
   "source": [
    "train['Zip Code'].isna().sum()"
   ]
  },
  {
   "cell_type": "markdown",
   "metadata": {},
   "source": [
    "#### 2.1.3 IME-4 Count\n",
    "Number of IME-4 forms received per claim. The IME-4 form is\n",
    "the “Independent Examiner's Report of Independent Medical\n",
    "Examination” form."
   ]
  },
  {
   "cell_type": "code",
   "execution_count": 109,
   "metadata": {},
   "outputs": [
    {
     "data": {
      "text/plain": [
       "count    237.000000\n",
       "mean       3.535865\n",
       "std        3.762519\n",
       "min        1.000000\n",
       "25%        1.000000\n",
       "50%        2.000000\n",
       "75%        5.000000\n",
       "max       36.000000\n",
       "Name: IME-4 Count, dtype: float64"
      ]
     },
     "execution_count": 109,
     "metadata": {},
     "output_type": "execute_result"
    }
   ],
   "source": [
    "train['IME-4 Count'].describe()"
   ]
  },
  {
   "cell_type": "markdown",
   "metadata": {},
   "source": [
    "the minimum is 1 so we will assume that the nans are 0"
   ]
  },
  {
   "cell_type": "code",
   "execution_count": 110,
   "metadata": {},
   "outputs": [],
   "source": [
    "train.fillna({'IME-4 Count': 0}, inplace=True)"
   ]
  },
  {
   "cell_type": "markdown",
   "metadata": {},
   "source": [
    "#### 2.1.4 OIICS Nature of Injury Description\n",
    "The OIICS nature of injury codes & descriptions are available\n",
    "at https://www.bls.gov/iif/oiics_manual_2007.pdf."
   ]
  },
  {
   "cell_type": "code",
   "execution_count": 111,
   "metadata": {},
   "outputs": [
    {
     "data": {
      "text/plain": [
       "np.int64(1004)"
      ]
     },
     "execution_count": 111,
     "metadata": {},
     "output_type": "execute_result"
    }
   ],
   "source": [
    "train['OIICS Nature of Injury Description'].isna().count()"
   ]
  },
  {
   "cell_type": "markdown",
   "metadata": {},
   "source": [
    "#### 2.1.5 ??? Number of Dependents "
   ]
  },
  {
   "cell_type": "markdown",
   "metadata": {},
   "source": [
    "### 2.2 categorical features"
   ]
  },
  {
   "cell_type": "code",
   "execution_count": 112,
   "metadata": {},
   "outputs": [
    {
     "data": {
      "text/plain": [
       "Index(['Accident Date', 'Alternative Dispute Resolution', 'Assembly Date',\n",
       "       'Attorney/Representative', 'C-2 Date', 'C-3 Date', 'Carrier Name',\n",
       "       'Carrier Type', 'County of Injury', 'COVID-19 Indicator',\n",
       "       'District Name', 'First Hearing Date', 'Gender',\n",
       "       'Industry Code Description', 'Medical Fee Region',\n",
       "       'WCIO Cause of Injury Description', 'WCIO Nature of Injury Description',\n",
       "       'WCIO Part Of Body Description'],\n",
       "      dtype='object')"
      ]
     },
     "execution_count": 112,
     "metadata": {},
     "output_type": "execute_result"
    }
   ],
   "source": [
    "cat_col = train.select_dtypes(include = ['object']).columns\n",
    "cat_col"
   ]
  },
  {
   "cell_type": "markdown",
   "metadata": {},
   "source": [
    "#### 2.2.1 Description columns"
   ]
  },
  {
   "cell_type": "code",
   "execution_count": 113,
   "metadata": {},
   "outputs": [
    {
     "data": {
      "text/plain": [
       "Index(['Industry Code Description', 'WCIO Cause of Injury Description',\n",
       "       'WCIO Nature of Injury Description', 'WCIO Part Of Body Description'],\n",
       "      dtype='object')"
      ]
     },
     "execution_count": 113,
     "metadata": {},
     "output_type": "execute_result"
    }
   ],
   "source": [
    "desc_col = cat_col[cat_col.str.contains('Description')]\n",
    "desc_col"
   ]
  },
  {
   "cell_type": "markdown",
   "metadata": {},
   "source": [
    "##### 2.2.1.1 Industry Code Description"
   ]
  },
  {
   "cell_type": "code",
   "execution_count": 114,
   "metadata": {},
   "outputs": [
    {
     "data": {
      "text/plain": [
       "True"
      ]
     },
     "execution_count": 114,
     "metadata": {},
     "output_type": "execute_result"
    }
   ],
   "source": [
    "# create a lookup table for the description columns\n",
    "lookup_Industry_Code = train[['Industry Code Description', 'Industry Code']][train['Industry Code Description'].isna()==False].drop_duplicates()\n",
    "lookup_Industry_Code.set_index('Industry Code', inplace = True)\n",
    "len(lookup_Industry_Code) == len(train['Industry Code'].unique()) -1"
   ]
  },
  {
   "cell_type": "code",
   "execution_count": 138,
   "metadata": {},
   "outputs": [
    {
     "data": {
      "text/html": [
       "<div>\n",
       "<style scoped>\n",
       "    .dataframe tbody tr th:only-of-type {\n",
       "        vertical-align: middle;\n",
       "    }\n",
       "\n",
       "    .dataframe tbody tr th {\n",
       "        vertical-align: top;\n",
       "    }\n",
       "\n",
       "    .dataframe thead th {\n",
       "        text-align: right;\n",
       "    }\n",
       "</style>\n",
       "<table border=\"1\" class=\"dataframe\">\n",
       "  <thead>\n",
       "    <tr style=\"text-align: right;\">\n",
       "      <th></th>\n",
       "      <th>Industry Code Description</th>\n",
       "    </tr>\n",
       "    <tr>\n",
       "      <th>Industry Code</th>\n",
       "      <th></th>\n",
       "    </tr>\n",
       "  </thead>\n",
       "  <tbody>\n",
       "    <tr>\n",
       "      <th>44.0</th>\n",
       "      <td>RETAIL TRADE</td>\n",
       "    </tr>\n",
       "    <tr>\n",
       "      <th>23.0</th>\n",
       "      <td>CONSTRUCTION</td>\n",
       "    </tr>\n",
       "    <tr>\n",
       "      <th>56.0</th>\n",
       "      <td>ADMINISTRATIVE AND SUPPORT AND WASTE MANAGEMEN...</td>\n",
       "    </tr>\n",
       "    <tr>\n",
       "      <th>62.0</th>\n",
       "      <td>HEALTH CARE AND SOCIAL ASSISTANCE</td>\n",
       "    </tr>\n",
       "    <tr>\n",
       "      <th>72.0</th>\n",
       "      <td>ACCOMMODATION AND FOOD SERVICES</td>\n",
       "    </tr>\n",
       "    <tr>\n",
       "      <th>61.0</th>\n",
       "      <td>EDUCATIONAL SERVICES</td>\n",
       "    </tr>\n",
       "    <tr>\n",
       "      <th>51.0</th>\n",
       "      <td>INFORMATION</td>\n",
       "    </tr>\n",
       "    <tr>\n",
       "      <th>31.0</th>\n",
       "      <td>MANUFACTURING</td>\n",
       "    </tr>\n",
       "    <tr>\n",
       "      <th>48.0</th>\n",
       "      <td>TRANSPORTATION AND WAREHOUSING</td>\n",
       "    </tr>\n",
       "    <tr>\n",
       "      <th>45.0</th>\n",
       "      <td>RETAIL TRADE</td>\n",
       "    </tr>\n",
       "    <tr>\n",
       "      <th>42.0</th>\n",
       "      <td>WHOLESALE TRADE</td>\n",
       "    </tr>\n",
       "    <tr>\n",
       "      <th>53.0</th>\n",
       "      <td>REAL ESTATE AND RENTAL AND LEASING</td>\n",
       "    </tr>\n",
       "    <tr>\n",
       "      <th>52.0</th>\n",
       "      <td>FINANCE AND INSURANCE</td>\n",
       "    </tr>\n",
       "    <tr>\n",
       "      <th>49.0</th>\n",
       "      <td>TRANSPORTATION AND WAREHOUSING</td>\n",
       "    </tr>\n",
       "    <tr>\n",
       "      <th>81.0</th>\n",
       "      <td>OTHER SERVICES (EXCEPT PUBLIC ADMINISTRATION)</td>\n",
       "    </tr>\n",
       "    <tr>\n",
       "      <th>92.0</th>\n",
       "      <td>PUBLIC ADMINISTRATION</td>\n",
       "    </tr>\n",
       "    <tr>\n",
       "      <th>33.0</th>\n",
       "      <td>MANUFACTURING</td>\n",
       "    </tr>\n",
       "    <tr>\n",
       "      <th>54.0</th>\n",
       "      <td>PROFESSIONAL, SCIENTIFIC, AND TECHNICAL SERVICES</td>\n",
       "    </tr>\n",
       "    <tr>\n",
       "      <th>32.0</th>\n",
       "      <td>MANUFACTURING</td>\n",
       "    </tr>\n",
       "    <tr>\n",
       "      <th>71.0</th>\n",
       "      <td>ARTS, ENTERTAINMENT, AND RECREATION</td>\n",
       "    </tr>\n",
       "    <tr>\n",
       "      <th>22.0</th>\n",
       "      <td>UTILITIES</td>\n",
       "    </tr>\n",
       "    <tr>\n",
       "      <th>11.0</th>\n",
       "      <td>AGRICULTURE, FORESTRY, FISHING AND HUNTING</td>\n",
       "    </tr>\n",
       "    <tr>\n",
       "      <th>21.0</th>\n",
       "      <td>MINING</td>\n",
       "    </tr>\n",
       "  </tbody>\n",
       "</table>\n",
       "</div>"
      ],
      "text/plain": [
       "                                       Industry Code Description\n",
       "Industry Code                                                   \n",
       "44.0                                                RETAIL TRADE\n",
       "23.0                                                CONSTRUCTION\n",
       "56.0           ADMINISTRATIVE AND SUPPORT AND WASTE MANAGEMEN...\n",
       "62.0                           HEALTH CARE AND SOCIAL ASSISTANCE\n",
       "72.0                             ACCOMMODATION AND FOOD SERVICES\n",
       "61.0                                        EDUCATIONAL SERVICES\n",
       "51.0                                                 INFORMATION\n",
       "31.0                                               MANUFACTURING\n",
       "48.0                              TRANSPORTATION AND WAREHOUSING\n",
       "45.0                                                RETAIL TRADE\n",
       "42.0                                             WHOLESALE TRADE\n",
       "53.0                          REAL ESTATE AND RENTAL AND LEASING\n",
       "52.0                                       FINANCE AND INSURANCE\n",
       "49.0                              TRANSPORTATION AND WAREHOUSING\n",
       "81.0               OTHER SERVICES (EXCEPT PUBLIC ADMINISTRATION)\n",
       "92.0                                       PUBLIC ADMINISTRATION\n",
       "33.0                                               MANUFACTURING\n",
       "54.0            PROFESSIONAL, SCIENTIFIC, AND TECHNICAL SERVICES\n",
       "32.0                                               MANUFACTURING\n",
       "71.0                         ARTS, ENTERTAINMENT, AND RECREATION\n",
       "22.0                                                   UTILITIES\n",
       "11.0                  AGRICULTURE, FORESTRY, FISHING AND HUNTING\n",
       "21.0                                                      MINING"
      ]
     },
     "execution_count": 138,
     "metadata": {},
     "output_type": "execute_result"
    }
   ],
   "source": [
    "lookup_Industry_Code"
   ]
  },
  {
   "cell_type": "markdown",
   "metadata": {},
   "source": [
    "##### 2.2.1.2 WCIO Cause of Injury Description"
   ]
  },
  {
   "cell_type": "code",
   "execution_count": 115,
   "metadata": {},
   "outputs": [
    {
     "data": {
      "text/plain": [
       "True"
      ]
     },
     "execution_count": 115,
     "metadata": {},
     "output_type": "execute_result"
    }
   ],
   "source": [
    "lookup_Cause_of_Injury = train[['WCIO Cause of Injury Description', 'WCIO Cause of Injury Code']][train['WCIO Cause of Injury Description'].isna()==False].drop_duplicates()\n",
    "lookup_Cause_of_Injury.set_index('WCIO Cause of Injury Code', inplace = True)\n",
    "len(lookup_Cause_of_Injury) == len(train['WCIO Cause of Injury Code'].unique()) -1"
   ]
  },
  {
   "cell_type": "markdown",
   "metadata": {},
   "source": [
    "##### 2.2.1.3 WCIO Nature of Injury Description"
   ]
  },
  {
   "cell_type": "code",
   "execution_count": 116,
   "metadata": {},
   "outputs": [
    {
     "data": {
      "text/plain": [
       "True"
      ]
     },
     "execution_count": 116,
     "metadata": {},
     "output_type": "execute_result"
    }
   ],
   "source": [
    "lookup_Nature_of_Injury = train[['WCIO Nature of Injury Description', 'WCIO Nature of Injury Code']][train['WCIO Nature of Injury Description'].isna()==False].drop_duplicates()\n",
    "lookup_Nature_of_Injury.set_index('WCIO Nature of Injury Code', inplace = True)\n",
    "len(lookup_Nature_of_Injury) == len(train['WCIO Nature of Injury Code'].unique()) -1"
   ]
  },
  {
   "cell_type": "markdown",
   "metadata": {},
   "source": [
    "##### 2.2.1.4 WCIO Part Of Body Description"
   ]
  },
  {
   "cell_type": "code",
   "execution_count": 117,
   "metadata": {},
   "outputs": [
    {
     "data": {
      "text/plain": [
       "True"
      ]
     },
     "execution_count": 117,
     "metadata": {},
     "output_type": "execute_result"
    }
   ],
   "source": [
    "lookup_Part_of_Body = train[['WCIO Part Of Body Description', 'WCIO Part Of Body Code']][train['WCIO Part Of Body Description'].isna()==False].drop_duplicates()\n",
    "lookup_Part_of_Body.set_index('WCIO Part Of Body Code', inplace = True)\n",
    "len(lookup_Part_of_Body) == len(train['WCIO Part Of Body Code'].unique()) -1"
   ]
  },
  {
   "cell_type": "markdown",
   "metadata": {},
   "source": [
    "#### 2.2.2 Date columns"
   ]
  },
  {
   "cell_type": "code",
   "execution_count": 118,
   "metadata": {},
   "outputs": [],
   "source": [
    "date_col = cat_col[cat_col.str.contains('Date')]\n",
    "for col in date_col:\n",
    "\ttrain[col] = pd.to_datetime(train[col], errors='coerce', format='%Y-%m-%d')\n"
   ]
  },
  {
   "cell_type": "code",
   "execution_count": 119,
   "metadata": {},
   "outputs": [
    {
     "data": {
      "text/html": [
       "<div>\n",
       "<style scoped>\n",
       "    .dataframe tbody tr th:only-of-type {\n",
       "        vertical-align: middle;\n",
       "    }\n",
       "\n",
       "    .dataframe tbody tr th {\n",
       "        vertical-align: top;\n",
       "    }\n",
       "\n",
       "    .dataframe thead th {\n",
       "        text-align: right;\n",
       "    }\n",
       "</style>\n",
       "<table border=\"1\" class=\"dataframe\">\n",
       "  <thead>\n",
       "    <tr style=\"text-align: right;\">\n",
       "      <th></th>\n",
       "      <th>Accident Date</th>\n",
       "      <th>Assembly Date</th>\n",
       "      <th>C-2 Date</th>\n",
       "      <th>C-3 Date</th>\n",
       "      <th>First Hearing Date</th>\n",
       "    </tr>\n",
       "    <tr>\n",
       "      <th>Claim Identifier</th>\n",
       "      <th></th>\n",
       "      <th></th>\n",
       "      <th></th>\n",
       "      <th></th>\n",
       "      <th></th>\n",
       "    </tr>\n",
       "  </thead>\n",
       "  <tbody>\n",
       "    <tr>\n",
       "      <th>5393875</th>\n",
       "      <td>2019-12-30</td>\n",
       "      <td>2020-01-01</td>\n",
       "      <td>2019-12-31</td>\n",
       "      <td>NaT</td>\n",
       "      <td>NaT</td>\n",
       "    </tr>\n",
       "    <tr>\n",
       "      <th>5393091</th>\n",
       "      <td>2019-08-30</td>\n",
       "      <td>2020-01-01</td>\n",
       "      <td>2020-01-01</td>\n",
       "      <td>2020-01-14</td>\n",
       "      <td>2020-02-21</td>\n",
       "    </tr>\n",
       "    <tr>\n",
       "      <th>5393889</th>\n",
       "      <td>2019-12-06</td>\n",
       "      <td>2020-01-01</td>\n",
       "      <td>2020-01-01</td>\n",
       "      <td>NaT</td>\n",
       "      <td>NaT</td>\n",
       "    </tr>\n",
       "    <tr>\n",
       "      <th>957648180</th>\n",
       "      <td>NaT</td>\n",
       "      <td>2020-01-01</td>\n",
       "      <td>NaT</td>\n",
       "      <td>NaT</td>\n",
       "      <td>NaT</td>\n",
       "    </tr>\n",
       "    <tr>\n",
       "      <th>5393887</th>\n",
       "      <td>2019-12-30</td>\n",
       "      <td>2020-01-01</td>\n",
       "      <td>2019-12-31</td>\n",
       "      <td>NaT</td>\n",
       "      <td>NaT</td>\n",
       "    </tr>\n",
       "  </tbody>\n",
       "</table>\n",
       "</div>"
      ],
      "text/plain": [
       "                 Accident Date Assembly Date   C-2 Date   C-3 Date  \\\n",
       "Claim Identifier                                                     \n",
       "5393875             2019-12-30    2020-01-01 2019-12-31        NaT   \n",
       "5393091             2019-08-30    2020-01-01 2020-01-01 2020-01-14   \n",
       "5393889             2019-12-06    2020-01-01 2020-01-01        NaT   \n",
       "957648180                  NaT    2020-01-01        NaT        NaT   \n",
       "5393887             2019-12-30    2020-01-01 2019-12-31        NaT   \n",
       "\n",
       "                 First Hearing Date  \n",
       "Claim Identifier                     \n",
       "5393875                         NaT  \n",
       "5393091                  2020-02-21  \n",
       "5393889                         NaT  \n",
       "957648180                       NaT  \n",
       "5393887                         NaT  "
      ]
     },
     "execution_count": 119,
     "metadata": {},
     "output_type": "execute_result"
    }
   ],
   "source": [
    "train[date_col].head()"
   ]
  },
  {
   "cell_type": "markdown",
   "metadata": {},
   "source": [
    "##### 2.2.2.1 Accident Date"
   ]
  },
  {
   "cell_type": "code",
   "execution_count": 120,
   "metadata": {},
   "outputs": [
    {
     "data": {
      "text/plain": [
       "count                              954\n",
       "mean     2019-10-11 19:56:58.867924480\n",
       "min                1984-03-22 00:00:00\n",
       "25%                2019-12-09 00:00:00\n",
       "50%                2019-12-20 00:00:00\n",
       "75%                2019-12-27 00:00:00\n",
       "max                2020-03-01 00:00:00\n",
       "Name: Accident Date, dtype: object"
      ]
     },
     "execution_count": 120,
     "metadata": {},
     "output_type": "execute_result"
    }
   ],
   "source": [
    "train['Accident Date'].describe()"
   ]
  },
  {
   "cell_type": "code",
   "execution_count": 121,
   "metadata": {},
   "outputs": [],
   "source": [
    "train['Accident Year_'] = train['Accident Date'].dt.year\n",
    "train['Accident Month_'] = train['Accident Date'].dt.month"
   ]
  },
  {
   "cell_type": "markdown",
   "metadata": {},
   "source": [
    "##### 2.2.2.2 Assembly Date"
   ]
  },
  {
   "cell_type": "code",
   "execution_count": 122,
   "metadata": {},
   "outputs": [
    {
     "data": {
      "text/plain": [
       "count                             1004\n",
       "mean     2020-01-02 02:52:06.693227008\n",
       "min                2020-01-01 00:00:00\n",
       "25%                2020-01-02 00:00:00\n",
       "50%                2020-01-02 00:00:00\n",
       "75%                2020-01-03 00:00:00\n",
       "max                2020-01-03 00:00:00\n",
       "Name: Assembly Date, dtype: object"
      ]
     },
     "execution_count": 122,
     "metadata": {},
     "output_type": "execute_result"
    }
   ],
   "source": [
    "train['Assembly Date'].describe()"
   ]
  },
  {
   "cell_type": "code",
   "execution_count": 123,
   "metadata": {},
   "outputs": [],
   "source": [
    "train['Assembly Year_'] = train['Assembly Date'].dt.year\n",
    "train['Assembly Month_'] = train['Assembly Date'].dt.month"
   ]
  },
  {
   "cell_type": "markdown",
   "metadata": {},
   "source": [
    "##### 2.2.2.3 C-2 Date"
   ]
  },
  {
   "cell_type": "code",
   "execution_count": 124,
   "metadata": {},
   "outputs": [
    {
     "data": {
      "text/plain": [
       "count                              936\n",
       "mean     2020-01-03 01:15:23.076923136\n",
       "min                2012-05-11 00:00:00\n",
       "25%                2020-01-02 00:00:00\n",
       "50%                2020-01-02 00:00:00\n",
       "75%                2020-01-03 00:00:00\n",
       "max                2021-03-26 00:00:00\n",
       "Name: C-2 Date, dtype: object"
      ]
     },
     "execution_count": 124,
     "metadata": {},
     "output_type": "execute_result"
    }
   ],
   "source": [
    "train['C-2 Date'].describe()"
   ]
  },
  {
   "cell_type": "code",
   "execution_count": 125,
   "metadata": {},
   "outputs": [],
   "source": [
    "train['C-2 Year_'] = train['C-2 Date'].dt.year\n",
    "train['C-2 Month_'] = train['C-2 Date'].dt.month\n",
    "train['C-2 recived_'] = ~train['C-2 Date'].isna()"
   ]
  },
  {
   "cell_type": "markdown",
   "metadata": {},
   "source": [
    "##### 2.2.2.4 C-3 Date"
   ]
  },
  {
   "cell_type": "code",
   "execution_count": 126,
   "metadata": {},
   "outputs": [
    {
     "data": {
      "text/plain": [
       "count                              321\n",
       "mean     2020-02-12 20:02:14.579439360\n",
       "min                2019-11-22 00:00:00\n",
       "25%                2019-12-27 00:00:00\n",
       "50%                2020-01-02 00:00:00\n",
       "75%                2020-01-24 00:00:00\n",
       "max                2024-02-14 00:00:00\n",
       "Name: C-3 Date, dtype: object"
      ]
     },
     "execution_count": 126,
     "metadata": {},
     "output_type": "execute_result"
    }
   ],
   "source": [
    "train['C-3 Date'].describe()"
   ]
  },
  {
   "cell_type": "code",
   "execution_count": 127,
   "metadata": {},
   "outputs": [],
   "source": [
    "train['C-3 Year_'] = train['C-3 Date'].dt.year\n",
    "train['C-3 Month_'] = train['C-3 Date'].dt.month\n",
    "train['C-3 recived_'] = ~train['C-3 Date'].isna()"
   ]
  },
  {
   "cell_type": "markdown",
   "metadata": {},
   "source": [
    "##### 2.2.2.5 First Hearing Date"
   ]
  },
  {
   "cell_type": "code",
   "execution_count": 128,
   "metadata": {},
   "outputs": [
    {
     "data": {
      "text/plain": [
       "count                              259\n",
       "mean     2020-12-10 14:44:00.926640896\n",
       "min                2020-01-30 00:00:00\n",
       "25%                2020-05-12 12:00:00\n",
       "50%                2020-09-02 00:00:00\n",
       "75%                2021-05-15 00:00:00\n",
       "max                2024-01-24 00:00:00\n",
       "Name: First Hearing Date, dtype: object"
      ]
     },
     "execution_count": 128,
     "metadata": {},
     "output_type": "execute_result"
    }
   ],
   "source": [
    "train['First Hearing Date'].describe()"
   ]
  },
  {
   "cell_type": "code",
   "execution_count": 129,
   "metadata": {},
   "outputs": [],
   "source": [
    "train['First Hearing Year_'] = train['First Hearing Date'].dt.year\n",
    "train['First Hearing Month_'] = train['First Hearing Date'].dt.month\n",
    "train['First Hearing Held_'] = ~train['First Hearing Date'].isna()"
   ]
  },
  {
   "cell_type": "markdown",
   "metadata": {},
   "source": [
    "#### 2.2.3 Alternative Dispute Resolution\n",
    "Adjudication processes external to the Board."
   ]
  },
  {
   "cell_type": "code",
   "execution_count": 130,
   "metadata": {},
   "outputs": [
    {
     "data": {
      "text/plain": [
       "count     959\n",
       "unique      1\n",
       "top         N\n",
       "freq      959\n",
       "Name: Alternative Dispute Resolution, dtype: object"
      ]
     },
     "execution_count": 130,
     "metadata": {},
     "output_type": "execute_result"
    }
   ],
   "source": [
    "train['Alternative Dispute Resolution'].describe()"
   ]
  },
  {
   "cell_type": "markdown",
   "metadata": {},
   "source": [
    "#### 2.2.3 Attorney/Representative\n",
    "Is the claim being represented by an Attorney?"
   ]
  },
  {
   "cell_type": "code",
   "execution_count": 131,
   "metadata": {},
   "outputs": [
    {
     "data": {
      "text/plain": [
       "count     959\n",
       "unique      1\n",
       "top         N\n",
       "freq      959\n",
       "Name: Alternative Dispute Resolution, dtype: object"
      ]
     },
     "execution_count": 131,
     "metadata": {},
     "output_type": "execute_result"
    }
   ],
   "source": [
    "train['Alternative Dispute Resolution'].describe()"
   ]
  },
  {
   "cell_type": "markdown",
   "metadata": {},
   "source": [
    "#### 2.2.3 Carrier Name\n",
    "Name of primary insurance provider responsible for\n",
    "providing workers’ compensation coverage to the injured\n",
    "worker’s employer."
   ]
  },
  {
   "cell_type": "code",
   "execution_count": 132,
   "metadata": {},
   "outputs": [
    {
     "data": {
      "text/plain": [
       "count                      959\n",
       "unique                     260\n",
       "top       STATE INSURANCE FUND\n",
       "freq                       211\n",
       "Name: Carrier Name, dtype: object"
      ]
     },
     "execution_count": 132,
     "metadata": {},
     "output_type": "execute_result"
    }
   ],
   "source": [
    "train['Carrier Name'].describe()"
   ]
  },
  {
   "cell_type": "code",
   "execution_count": 137,
   "metadata": {},
   "outputs": [],
   "source": [
    "lookup_Carrier = train['Carrier Name'].drop_duplicates().reset_index()"
   ]
  },
  {
   "cell_type": "code",
   "execution_count": null,
   "metadata": {},
   "outputs": [],
   "source": []
  },
  {
   "cell_type": "code",
   "execution_count": 134,
   "metadata": {},
   "outputs": [
    {
     "data": {
      "text/plain": [
       "Claim Identifier\n",
       "5393875         NEW HAMPSHIRE INSURANCE CO\n",
       "5393091       ZURICH AMERICAN INSURANCE CO\n",
       "5393889          INDEMNITY INSURANCE CO OF\n",
       "957648180                              NaN\n",
       "5393887               STATE INSURANCE FUND\n",
       "                         ...              \n",
       "5395171            EMPLOYERS ASSURANCE CO.\n",
       "5395043              CH ENERGY GROUP, INC.\n",
       "5394456            CINCINNATI INSURANCE CO\n",
       "5395027      METROPOLITAN TRANSPORT AUTHOR\n",
       "5395018       OUR LADY OF LOURDES HOSPITAL\n",
       "Name: Carrier Name, Length: 261, dtype: object"
      ]
     },
     "execution_count": 134,
     "metadata": {},
     "output_type": "execute_result"
    }
   ],
   "source": [
    "lookup_Carrier"
   ]
  },
  {
   "cell_type": "code",
   "execution_count": 180,
   "metadata": {},
   "outputs": [
    {
     "data": {
      "text/plain": [
       "True"
      ]
     },
     "execution_count": 180,
     "metadata": {},
     "output_type": "execute_result"
    }
   ],
   "source": [
    "# create a lookup table for Carrier Name with unique and a uniqque string identifier\n",
    "lookup_Carrier = train['Carrier Name'][train['Carrier Name'].isna()==False].drop_duplicates().reset_index()\n",
    "lookup_Carrier.rename(columns = {'Claim Identifier':'Carrier Code'}, inplace = True)\n",
    "lookup_Carrier.set_index('Carrier Name', inplace = True)\n",
    "len(lookup_Carrier) == len(train['Carrier Name'].unique()) -1"
   ]
  },
  {
   "cell_type": "code",
   "execution_count": 181,
   "metadata": {},
   "outputs": [
    {
     "data": {
      "text/html": [
       "<div>\n",
       "<style scoped>\n",
       "    .dataframe tbody tr th:only-of-type {\n",
       "        vertical-align: middle;\n",
       "    }\n",
       "\n",
       "    .dataframe tbody tr th {\n",
       "        vertical-align: top;\n",
       "    }\n",
       "\n",
       "    .dataframe thead th {\n",
       "        text-align: right;\n",
       "    }\n",
       "</style>\n",
       "<table border=\"1\" class=\"dataframe\">\n",
       "  <thead>\n",
       "    <tr style=\"text-align: right;\">\n",
       "      <th></th>\n",
       "      <th>Carrier Code</th>\n",
       "    </tr>\n",
       "    <tr>\n",
       "      <th>Carrier Name</th>\n",
       "      <th></th>\n",
       "    </tr>\n",
       "  </thead>\n",
       "  <tbody>\n",
       "    <tr>\n",
       "      <th>NEW HAMPSHIRE INSURANCE CO</th>\n",
       "      <td>5393875</td>\n",
       "    </tr>\n",
       "    <tr>\n",
       "      <th>ZURICH AMERICAN INSURANCE CO</th>\n",
       "      <td>5393091</td>\n",
       "    </tr>\n",
       "    <tr>\n",
       "      <th>INDEMNITY INSURANCE CO OF</th>\n",
       "      <td>5393889</td>\n",
       "    </tr>\n",
       "    <tr>\n",
       "      <th>STATE INSURANCE FUND</th>\n",
       "      <td>5393887</td>\n",
       "    </tr>\n",
       "    <tr>\n",
       "      <th>INDEMNITY INS. OF N AMERICA</th>\n",
       "      <td>5393863</td>\n",
       "    </tr>\n",
       "    <tr>\n",
       "      <th>...</th>\n",
       "      <td>...</td>\n",
       "    </tr>\n",
       "    <tr>\n",
       "      <th>EMPLOYERS ASSURANCE CO.</th>\n",
       "      <td>5395171</td>\n",
       "    </tr>\n",
       "    <tr>\n",
       "      <th>CH ENERGY GROUP, INC.</th>\n",
       "      <td>5395043</td>\n",
       "    </tr>\n",
       "    <tr>\n",
       "      <th>CINCINNATI INSURANCE CO</th>\n",
       "      <td>5394456</td>\n",
       "    </tr>\n",
       "    <tr>\n",
       "      <th>METROPOLITAN TRANSPORT AUTHOR</th>\n",
       "      <td>5395027</td>\n",
       "    </tr>\n",
       "    <tr>\n",
       "      <th>OUR LADY OF LOURDES HOSPITAL</th>\n",
       "      <td>5395018</td>\n",
       "    </tr>\n",
       "  </tbody>\n",
       "</table>\n",
       "<p>260 rows × 1 columns</p>\n",
       "</div>"
      ],
      "text/plain": [
       "                               Carrier Code\n",
       "Carrier Name                               \n",
       "NEW HAMPSHIRE INSURANCE CO          5393875\n",
       "ZURICH AMERICAN INSURANCE CO        5393091\n",
       "INDEMNITY INSURANCE CO OF           5393889\n",
       "STATE INSURANCE FUND                5393887\n",
       "INDEMNITY INS. OF N AMERICA         5393863\n",
       "...                                     ...\n",
       "EMPLOYERS ASSURANCE CO.             5395171\n",
       "CH ENERGY GROUP, INC.               5395043\n",
       "CINCINNATI INSURANCE CO             5394456\n",
       "METROPOLITAN TRANSPORT AUTHOR       5395027\n",
       "OUR LADY OF LOURDES HOSPITAL        5395018\n",
       "\n",
       "[260 rows x 1 columns]"
      ]
     },
     "execution_count": 181,
     "metadata": {},
     "output_type": "execute_result"
    }
   ],
   "source": [
    "lookup_Carrier"
   ]
  },
  {
   "cell_type": "code",
   "execution_count": 164,
   "metadata": {},
   "outputs": [],
   "source": [
    "train['Carrier Code'] = train['Carrier Name'].map(lookup_Carrier['Carrier Code'])"
   ]
  },
  {
   "cell_type": "markdown",
   "metadata": {},
   "source": [
    "#### 2.2.3 Carrier Type"
   ]
  },
  {
   "cell_type": "code",
   "execution_count": null,
   "metadata": {},
   "outputs": [
    {
     "data": {
      "text/plain": [
       "array(['1A. PRIVATE', nan, '2A. SIF', '4A. SELF PRIVATE',\n",
       "       '3A. SELF PUBLIC', 'UNKNOWN'], dtype=object)"
      ]
     },
     "execution_count": 141,
     "metadata": {},
     "output_type": "execute_result"
    }
   ],
   "source": [
    "train['Carrier Type'].unique()"
   ]
  },
  {
   "cell_type": "code",
   "execution_count": 189,
   "metadata": {},
   "outputs": [
    {
     "data": {
      "text/plain": [
       "True"
      ]
     },
     "execution_count": 189,
     "metadata": {},
     "output_type": "execute_result"
    }
   ],
   "source": [
    "lookup_Carrier_Type = train['Carrier Type'][~train['Carrier Type'].isna()].drop_duplicates().reset_index()\n",
    "lookup_Carrier_Type['Carrier Type Code'] = lookup_Carrier_Type['Carrier Type'].str[:2]\n",
    "lookup_Carrier_Type.set_index('Carrier Type Code', inplace = True)\n",
    "lookup_Carrier_Type.drop(columns = 'Claim Identifier', inplace = True)\n",
    "len(lookup_Carrier_Type) == len(train['Carrier Type'].unique()) - 1"
   ]
  },
  {
   "cell_type": "code",
   "execution_count": 190,
   "metadata": {},
   "outputs": [
    {
     "data": {
      "text/html": [
       "<div>\n",
       "<style scoped>\n",
       "    .dataframe tbody tr th:only-of-type {\n",
       "        vertical-align: middle;\n",
       "    }\n",
       "\n",
       "    .dataframe tbody tr th {\n",
       "        vertical-align: top;\n",
       "    }\n",
       "\n",
       "    .dataframe thead th {\n",
       "        text-align: right;\n",
       "    }\n",
       "</style>\n",
       "<table border=\"1\" class=\"dataframe\">\n",
       "  <thead>\n",
       "    <tr style=\"text-align: right;\">\n",
       "      <th></th>\n",
       "      <th>Carrier Type</th>\n",
       "    </tr>\n",
       "    <tr>\n",
       "      <th>Carrier Type Code</th>\n",
       "      <th></th>\n",
       "    </tr>\n",
       "  </thead>\n",
       "  <tbody>\n",
       "    <tr>\n",
       "      <th>1A</th>\n",
       "      <td>1A. PRIVATE</td>\n",
       "    </tr>\n",
       "    <tr>\n",
       "      <th>2A</th>\n",
       "      <td>2A. SIF</td>\n",
       "    </tr>\n",
       "    <tr>\n",
       "      <th>4A</th>\n",
       "      <td>4A. SELF PRIVATE</td>\n",
       "    </tr>\n",
       "    <tr>\n",
       "      <th>3A</th>\n",
       "      <td>3A. SELF PUBLIC</td>\n",
       "    </tr>\n",
       "    <tr>\n",
       "      <th>UN</th>\n",
       "      <td>UNKNOWN</td>\n",
       "    </tr>\n",
       "  </tbody>\n",
       "</table>\n",
       "</div>"
      ],
      "text/plain": [
       "                       Carrier Type\n",
       "Carrier Type Code                  \n",
       "1A                      1A. PRIVATE\n",
       "2A                          2A. SIF\n",
       "4A                 4A. SELF PRIVATE\n",
       "3A                  3A. SELF PUBLIC\n",
       "UN                          UNKNOWN"
      ]
     },
     "execution_count": 190,
     "metadata": {},
     "output_type": "execute_result"
    }
   ],
   "source": [
    "lookup_Carrier_Type"
   ]
  },
  {
   "cell_type": "code",
   "execution_count": 191,
   "metadata": {},
   "outputs": [],
   "source": [
    "train['Carrier Type Code'] = train['Carrier Type'].str[:2]"
   ]
  },
  {
   "cell_type": "markdown",
   "metadata": {},
   "source": [
    "#### 2.2.3 County of Injury"
   ]
  },
  {
   "cell_type": "markdown",
   "metadata": {},
   "source": [
    "#### 2.2.3 COVID-19 Indicator"
   ]
  },
  {
   "cell_type": "markdown",
   "metadata": {},
   "source": [
    "#### 2.2.3 District Name"
   ]
  },
  {
   "cell_type": "markdown",
   "metadata": {},
   "source": [
    "#### 2.2.3 Gender"
   ]
  },
  {
   "cell_type": "markdown",
   "metadata": {},
   "source": [
    "#### 2.2.3 Medical Fee Region"
   ]
  },
  {
   "cell_type": "markdown",
   "metadata": {},
   "source": [
    "## 3 explore the target"
   ]
  },
  {
   "cell_type": "markdown",
   "metadata": {},
   "source": [
    "## 4 New Features"
   ]
  },
  {
   "cell_type": "markdown",
   "metadata": {},
   "source": [
    "### 4.1 d_days_assambly_accident_"
   ]
  },
  {
   "cell_type": "code",
   "execution_count": 192,
   "metadata": {},
   "outputs": [],
   "source": [
    "train['d_Assembly_Accident'] = train['Assembly Date'] - train['Accident Date']"
   ]
  },
  {
   "cell_type": "code",
   "execution_count": null,
   "metadata": {},
   "outputs": [],
   "source": []
  },
  {
   "cell_type": "markdown",
   "metadata": {},
   "source": [
    "### 4.2 d_days_c2_accident"
   ]
  },
  {
   "cell_type": "code",
   "execution_count": 194,
   "metadata": {},
   "outputs": [],
   "source": [
    "train['d_c2_Accident'] = train['C-2 Date'] - train['Accident Date']"
   ]
  },
  {
   "cell_type": "markdown",
   "metadata": {},
   "source": [
    "### 4.2 d_days_c3_accident"
   ]
  },
  {
   "cell_type": "code",
   "execution_count": null,
   "metadata": {},
   "outputs": [],
   "source": [
    "train['d_c3_Accident'] = train['C-3 Date'] - train['Accident Date']"
   ]
  },
  {
   "cell_type": "markdown",
   "metadata": {},
   "source": [
    "### 4.2 d_days_c2_c3"
   ]
  },
  {
   "cell_type": "code",
   "execution_count": 198,
   "metadata": {},
   "outputs": [],
   "source": [
    "train['d_c2_c3'] = train['C-2 Date'] - train['C-3 Date']"
   ]
  },
  {
   "cell_type": "code",
   "execution_count": 199,
   "metadata": {},
   "outputs": [
    {
     "data": {
      "text/plain": [
       "count                             304\n",
       "mean     -32 days +02:36:18.947368421\n",
       "std       168 days 07:47:02.244616940\n",
       "min              -1503 days +00:00:00\n",
       "25%                -25 days +00:00:00\n",
       "50%                 -3 days +12:00:00\n",
       "75%                  18 days 00:00:00\n",
       "max                 459 days 00:00:00\n",
       "Name: d_c2_c3, dtype: object"
      ]
     },
     "execution_count": 199,
     "metadata": {},
     "output_type": "execute_result"
    }
   ],
   "source": [
    "train['d_c2_c3'].describe()"
   ]
  },
  {
   "cell_type": "markdown",
   "metadata": {},
   "source": [
    "## 5 function for data preparation"
   ]
  }
 ],
 "metadata": {
  "kernelspec": {
   "display_name": "ML_env",
   "language": "python",
   "name": "python3"
  },
  "language_info": {
   "codemirror_mode": {
    "name": "ipython",
    "version": 3
   },
   "file_extension": ".py",
   "mimetype": "text/x-python",
   "name": "python",
   "nbconvert_exporter": "python",
   "pygments_lexer": "ipython3",
   "version": "3.12.7"
  }
 },
 "nbformat": 4,
 "nbformat_minor": 2
}
