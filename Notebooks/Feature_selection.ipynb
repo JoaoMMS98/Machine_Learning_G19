{
 "cells": [
  {
   "cell_type": "code",
   "execution_count": 1,
   "metadata": {},
   "outputs": [],
   "source": [
    "# install libraries\n",
    "import numpy as np\n",
    "import pandas as pd\n",
    "import matplotlib.pyplot as plt\n",
    "import seaborn as sns\n",
    "import os\n",
    "import sys\n"
   ]
  },
  {
   "cell_type": "code",
   "execution_count": 2,
   "metadata": {},
   "outputs": [],
   "source": [
    "#get the data\n",
    "train_path = \"../Data/train_data_mok.csv\"\n",
    "test_path = \"../Data/test_data_mok.csv\"\n",
    "train = pd.read_csv(train_path,index_col='Claim Identifier')\n",
    "train_f = pd.read_csv(train_path,index_col='Claim Identifier')\n",
    "test_f = test = pd.read_csv(test_path,index_col='Claim Identifier')\n",
    "test = pd.read_csv(test_path,index_col='Claim Identifier')"
   ]
  },
  {
   "cell_type": "code",
   "execution_count": 3,
   "metadata": {},
   "outputs": [],
   "source": [
    "sys.path.append('../Library')\n",
    "import data_prep as p"
   ]
  },
  {
   "cell_type": "code",
   "execution_count": 4,
   "metadata": {},
   "outputs": [
    {
     "name": "stdout",
     "output_type": "stream",
     "text": [
      "-------Numerical Features---------\n",
      "A) ---> dealing with the Average Weekly Wage\n",
      "B) ---> dealing with the Birth Year\n",
      "created ---> Age_\n",
      "-------Categorical Features---------\n",
      "B) ---> dealing with Alternative Dispute Resolution\n",
      "C) ---> encoding the categorical features\n",
      "importing the lookup tables:\n",
      "1. ---> lookup_carrier\n",
      "2. ---> lookup_carrier_type\n",
      "3. ---> lookup_cause_of_injury\n",
      "4. ---> lookup_country\n",
      "5. ---> lookup_district\n",
      "6. ---> lookup_industry_code\n",
      "7. ---> lookup_medical_fee\n",
      "8. ---> lookup_nature_of_injury\n",
      "9. ---> lookup_part_of_body\n",
      "encoding the categorical features:\n",
      "1. ---> Carrier Name encoded in Carrier Code_\n",
      "2. ---> Carrier Type encoded in Carrier Type Code_\n",
      "'Country of Injury'\n",
      "4. ---> COVID-19 Indicator encoded\n",
      "5. ---> District Name encoded in District Code_\n",
      "6. ---> Medical Fee Region encoded in Medical Fee Code_\n",
      "7. ---> Carrier Type encoded in Carrier Type Code_\n",
      "-------Date Features---------\n",
      "setin every date to date time\n",
      "-------New Date Features---------\n",
      "A) ---> Accident Date year and month\n",
      "B) ---> Assembly Date year and month\n",
      "C) ---> C-2 year and month\n",
      "D) ---> C-3 year and month\n",
      "E) --->First Hearing year and month\n",
      "----> dropping the columns\n",
      "----> columns dropped\n",
      "Age at Injury : float64\n",
      "Alternative Dispute Resolution : float64\n",
      "Attorney/Representative : object\n",
      "Birth Year : float64\n",
      "Claim Injury Type : object\n",
      "County of Injury : object\n",
      "COVID-19 Indicator : float64\n",
      "Gender : object\n",
      "IME-4 Count : float64\n",
      "Industry Code : float64\n",
      "OIICS Nature of Injury Description : float64\n",
      "WCIO Cause of Injury Code : float64\n",
      "WCIO Nature of Injury Code : float64\n",
      "WCIO Part Of Body Code : float64\n",
      "Zip Code : float64\n",
      "Agreement Reached : float64\n",
      "WCB Decision : object\n",
      "Number of Dependents : float64\n",
      "log_Average Weekly Wage : float64\n",
      "Age_ : float64\n",
      "Carrier Code_ : float64\n",
      "Carrier Type Code_ : object\n",
      "District Code : float64\n",
      "Medical Fee Code_ : float64\n",
      "Carrier Type Code : object\n",
      "Accident Year_ : float64\n",
      "Accident Month_ : float64\n",
      "Assembly Year_ : int32\n",
      "Assembly Month_ : int32\n",
      "C-2 Year_ : float64\n",
      "C-2 Month_ : float64\n",
      "C-3 Year_ : float64\n",
      "C-3 Month_ : float64\n",
      "First Hearing Year_ : float64\n",
      "First Hearing Month_ : float64\n",
      "First Hearing held : bool\n",
      "----> cleaning up done\n"
     ]
    }
   ],
   "source": [
    "df_t = p.cleanUp(train)"
   ]
  },
  {
   "cell_type": "markdown",
   "metadata": {},
   "source": [
    "## Feature scaling"
   ]
  },
  {
   "cell_type": "code",
   "execution_count": null,
   "metadata": {},
   "outputs": [],
   "source": [
    "#scale df_t\n",
    "from sklearn.preprocessing import RobustScaler\n",
    "scaler = RobustScaler()\n",
    "\n",
    "scaler = RobustScaler().fit(train_numerical)\n",
    "X_val_rb = scaler.transform(val_numerical) \n",
    "test_rb = scaler.transform(test_numerical)\n"
   ]
  }
 ],
 "metadata": {
  "kernelspec": {
   "display_name": "ML_env",
   "language": "python",
   "name": "python3"
  },
  "language_info": {
   "codemirror_mode": {
    "name": "ipython",
    "version": 3
   },
   "file_extension": ".py",
   "mimetype": "text/x-python",
   "name": "python",
   "nbconvert_exporter": "python",
   "pygments_lexer": "ipython3",
   "version": "3.12.7"
  }
 },
 "nbformat": 4,
 "nbformat_minor": 2
}
